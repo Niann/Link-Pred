{
 "cells": [
  {
   "cell_type": "code",
   "execution_count": 1,
   "metadata": {},
   "outputs": [],
   "source": [
    "import random\n",
    "import pickle\n",
    "import itertools\n",
    "import xgboost\n",
    "import lightgbm\n",
    "import numpy as np\n",
    "import matplotlib.pyplot as plt\n",
    "\n",
    "from tqdm import tqdm\n",
    "from sklearn.ensemble import RandomForestClassifier\n",
    "from sklearn.ensemble import AdaBoostClassifier\n",
    "from sklearn.linear_model import LogisticRegression\n",
    "from sklearn.neighbors import KNeighborsClassifier\n",
    "from sklearn.tree import ExtraTreeClassifier\n",
    "from sklearn.svm import SVC\n",
    "\n",
    "from sklearn.model_selection import GridSearchCV\n",
    "from sklearn.model_selection import train_test_split\n",
    "from sklearn.model_selection import StratifiedKFold\n",
    "from sklearn.metrics import roc_auc_score\n",
    "from sklearn.metrics import confusion_matrix\n",
    "\n",
    "%matplotlib inline"
   ]
  },
  {
   "cell_type": "markdown",
   "metadata": {},
   "source": [
    "## read data"
   ]
  },
  {
   "cell_type": "code",
   "execution_count": 4,
   "metadata": {},
   "outputs": [
    {
     "name": "stderr",
     "output_type": "stream",
     "text": [
      "C:\\Anaconda3\\lib\\site-packages\\sklearn\\model_selection\\_split.py:2026: FutureWarning: From version 0.21, test_size will always complement train_size unless both are specified.\n",
      "  FutureWarning)\n"
     ]
    }
   ],
   "source": [
    "data = np.load(\"data.npy\")\n",
    "\n",
    "with open(\"rec_sim.pickle\",\"rb\") as f:\n",
    "    rec_sim = pickle.load(f)\n",
    "\n",
    "# append recommondation cosine similarity\n",
    "data = data.tolist()\n",
    "for i in range(len(data)):\n",
    "    data[i].insert(-1,rec_sim[data[i][0]])\n",
    "\n",
    "\n",
    "with open(\"1W.pickle\",\"rb\") as f:\n",
    "    pr1 = pickle.load(f)\n",
    "\n",
    "for i in range(len(data)):\n",
    "    idx = data[i][0]\n",
    "    if idx in pr1:\n",
    "        data[i].insert(-1, pr1[idx][0])\n",
    "\n",
    "with open(\"2W.pickle\",\"rb\") as f:\n",
    "    pr2 = pickle.load(f)\n",
    "\n",
    "for i in range(len(data)):\n",
    "    idx = data[i][0]\n",
    "    if idx in pr2:\n",
    "        data[i].insert(-1, pr2[idx][0])\n",
    "\n",
    "\n",
    "with open(\"amp_train.pickle\",\"rb\") as f:\n",
    "    amp_train = pickle.load(f)\n",
    "\n",
    "for i in range(len(data)):\n",
    "    data[i].insert(-1, amp_train[data[i][0]])\n",
    "\n",
    "data = np.array(data)\n",
    "train, test = train_test_split(data[:,1:], train_size=0.8)\n",
    "X_train, y_train = train[:,:-1], train[:,-1]\n",
    "X_test, y_test = test[:,:-1], test[:,-1]\n",
    "\n",
    "mean = np.mean(X_train, axis=0, keepdims=True)\n",
    "std = np.std(X_train, axis=0, keepdims=True)\n",
    "Xn_train = (X_train - mean) / std\n",
    "Xn_test = (X_test - mean) / std"
   ]
  },
  {
   "cell_type": "code",
   "execution_count": 5,
   "metadata": {},
   "outputs": [
    {
     "name": "stdout",
     "output_type": "stream",
     "text": [
      "(2000, 19)\n"
     ]
    }
   ],
   "source": [
    "X_t = np.load(\"Xt_.npy\")\n",
    "\n",
    "with open(\"rec_sim_test.pickle\", \"rb\") as f:\n",
    "    rec_sim_test = pickle.load(f)\n",
    "\n",
    "with open(\"test.pickle\",\"rb\") as f:\n",
    "    pr_t = pickle.load(f)\n",
    "\n",
    "with open(\"amp_test.pickle\",\"rb\") as f:\n",
    "    amp_t = pickle.load(f)\n",
    "    \n",
    "X_t = X_t[:, :-1].tolist()\n",
    "\n",
    "for i in range(len(X_t)):\n",
    "    X_t[i].append(rec_sim_test[i+1])\n",
    "\n",
    "for i in range(len(X_t)):\n",
    "    X_t[i].append(pr_t[i])\n",
    "\n",
    "for i in range(len(X_t)):\n",
    "    X_t[i].append(amp_t[i])\n",
    "\n",
    "X_t = np.array(X_t)\n",
    "Xn_t = (X_t - mean) / std\n",
    "print(X_t.shape)"
   ]
  },
  {
   "cell_type": "code",
   "execution_count": 6,
   "metadata": {},
   "outputs": [],
   "source": [
    "class Ensemble:\n",
    "    \n",
    "    def __init__(self, k):\n",
    "        \n",
    "        self.fold = k\n",
    "        \n",
    "        self.clf = []\n",
    "        \n",
    "        clf = []\n",
    "        for i in range(k):\n",
    "            clf.append(xgboost.XGBClassifier(booster='dart',colsample_bylevel=0.85,\n",
    "                                             learning_rate=0.05,max_depth=8,\n",
    "                                             n_estimators=200,subsample=0.75))\n",
    "        self.clf.append(clf)\n",
    "        \n",
    "        clf = []\n",
    "        for i in range(k):\n",
    "            clf.append(xgboost.XGBClassifier(booster='gbtree',colsample_bylevel=0.75,\n",
    "                                             learning_rate=0.05,max_depth=6,\n",
    "                                             n_estimators=200,subsample=0.6))\n",
    "        self.clf.append(clf)\n",
    "        \n",
    "        clf = []\n",
    "        for i in range(k):\n",
    "            clf.append(lightgbm.LGBMClassifier(boosting_type='rf',bagging_freq=1,\n",
    "                                               bagging_fraction=0.75,feature_fraction=0.75,\n",
    "                                               num_leaves=20))\n",
    "        self.clf.append(clf)\n",
    "        \n",
    "        clf = []\n",
    "        for i in range(k):\n",
    "            clf.append(lightgbm.LGBMClassifier(boosting_type='dart',learning_rate=0.15,\n",
    "                                               subsample=0.5,\n",
    "                                               num_leaves=20))\n",
    "        self.clf.append(clf)\n",
    "        \n",
    "        clf = []\n",
    "        for i in range(k):\n",
    "            clf.append(lightgbm.LGBMClassifier(boosting_type='gbdt',learning_rate=0.1,\n",
    "                                               subsample=0.5,max_depth=4,\n",
    "                                               num_leaves=20))\n",
    "        self.clf.append(clf)\n",
    "        \n",
    "        clf = []\n",
    "        for i in range(k):\n",
    "            clf.append(RandomForestClassifier(n_estimators=1000))\n",
    "        self.clf.append(clf)\n",
    "        \n",
    "        clf = []\n",
    "        for i in range(k):\n",
    "            clf.append(AdaBoostClassifier(n_estimators=200, learning_rate=0.5))\n",
    "        self.clf.append(clf)\n",
    "        \n",
    "        clf = []\n",
    "        for i in range(k):\n",
    "            clf.append(LogisticRegression(C=100))\n",
    "        self.clf.append(clf)\n",
    "        \n",
    "        clf = []\n",
    "        for i in range(k):\n",
    "            clf.append(SVC(kernel=\"poly\",C=7,coef0=1,degree=4))\n",
    "        self.clf.append(clf)\n",
    "        \n",
    "        clf = []\n",
    "        for i in range(k):\n",
    "            clf.append(SVC(kernel=\"rbf\",C=9,gamma=0.75))\n",
    "        self.clf.append(clf)\n",
    "        \n",
    "        clf = []\n",
    "        for i in range(k):\n",
    "            clf.append(KNeighborsClassifier(n_neighbors=25))\n",
    "        self.clf.append(clf)\n",
    "        \n",
    "        clf = []\n",
    "        for i in range(k):\n",
    "            clf.append(ExtraTreeClassifier(splitter=\"random\",min_samples_split=26))\n",
    "        self.clf.append(clf)\n",
    "        \n",
    "    def fit(self, X, y):\n",
    "        \n",
    "        skf = StratifiedKFold(self.fold)\n",
    "        \n",
    "        count = 0\n",
    "        features = []\n",
    "        for clf in self.clf:\n",
    "            \n",
    "            feature = np.zeros(len(X))\n",
    "            for i, (train_index, test_index) in enumerate(skf.split(X, y)):\n",
    "                \n",
    "                Xtrain, ytrain = X[train_index], y[train_index]\n",
    "                clf[i].fit(Xtrain, ytrain)\n",
    "                feature[test_index] = clf[i].predict(X[test_index])\n",
    "                \n",
    "            feature = feature[:, np.newaxis]\n",
    "            features.append(feature)\n",
    "            count += 1\n",
    "            print(count)\n",
    "    \n",
    "        features = np.concatenate(features, axis=1)\n",
    "        features = np.concatenate([X, features], axis=1)\n",
    "        \n",
    "        params = {\"learning_rate\":[0.01,0.03,0.05,0.1],\n",
    "                  \"max_depth\":[2,4,6,8,10],\n",
    "                  \"subsample\":[0.6,0.75,0.85,1],\n",
    "                  \"colsample_bylevel\":[0.6,0.75,0.85,1]}\n",
    "\n",
    "        base = xgboost.XGBClassifier(n_estimators=200,booster=\"gbtree\")\n",
    "        self.meta_learner = GridSearchCV(base,params,n_jobs=-1,scoring='roc_auc',verbose=1)\n",
    "        self.meta_learner.fit(features, y)\n",
    "        return features\n",
    "    \n",
    "    def predict_proba(self, X):\n",
    "        \n",
    "        features = []\n",
    "        for clfs in self.clf:\n",
    "            \n",
    "            preds = np.zeros(len(X))\n",
    "            for clf in clfs:\n",
    "                preds += clf.predict(X)\n",
    "                \n",
    "            feature = (preds / self.fold) > 0.5\n",
    "            feature = feature[:, np.newaxis]\n",
    "            features.append(feature)\n",
    "            \n",
    "        features = np.concatenate(features, axis=1)\n",
    "        features = np.concatenate([X,features], axis=1)\n",
    "        \n",
    "        return self.meta_learner.predict_proba(features), features"
   ]
  },
  {
   "cell_type": "code",
   "execution_count": 7,
   "metadata": {},
   "outputs": [],
   "source": [
    "model = Ensemble(3)"
   ]
  },
  {
   "cell_type": "code",
   "execution_count": 8,
   "metadata": {},
   "outputs": [
    {
     "name": "stderr",
     "output_type": "stream",
     "text": [
      "C:\\Anaconda3\\lib\\site-packages\\sklearn\\preprocessing\\label.py:151: DeprecationWarning: The truth value of an empty array is ambiguous. Returning False, but in future this will result in an error. Use `array.size > 0` to check that an array is not empty.\n",
      "  if diff:\n",
      "C:\\Anaconda3\\lib\\site-packages\\sklearn\\preprocessing\\label.py:151: DeprecationWarning: The truth value of an empty array is ambiguous. Returning False, but in future this will result in an error. Use `array.size > 0` to check that an array is not empty.\n",
      "  if diff:\n",
      "C:\\Anaconda3\\lib\\site-packages\\sklearn\\preprocessing\\label.py:151: DeprecationWarning: The truth value of an empty array is ambiguous. Returning False, but in future this will result in an error. Use `array.size > 0` to check that an array is not empty.\n",
      "  if diff:\n"
     ]
    },
    {
     "name": "stdout",
     "output_type": "stream",
     "text": [
      "1\n"
     ]
    },
    {
     "name": "stderr",
     "output_type": "stream",
     "text": [
      "C:\\Anaconda3\\lib\\site-packages\\sklearn\\preprocessing\\label.py:151: DeprecationWarning: The truth value of an empty array is ambiguous. Returning False, but in future this will result in an error. Use `array.size > 0` to check that an array is not empty.\n",
      "  if diff:\n",
      "C:\\Anaconda3\\lib\\site-packages\\sklearn\\preprocessing\\label.py:151: DeprecationWarning: The truth value of an empty array is ambiguous. Returning False, but in future this will result in an error. Use `array.size > 0` to check that an array is not empty.\n",
      "  if diff:\n",
      "C:\\Anaconda3\\lib\\site-packages\\sklearn\\preprocessing\\label.py:151: DeprecationWarning: The truth value of an empty array is ambiguous. Returning False, but in future this will result in an error. Use `array.size > 0` to check that an array is not empty.\n",
      "  if diff:\n"
     ]
    },
    {
     "name": "stdout",
     "output_type": "stream",
     "text": [
      "2\n"
     ]
    },
    {
     "name": "stderr",
     "output_type": "stream",
     "text": [
      "C:\\Anaconda3\\lib\\site-packages\\sklearn\\preprocessing\\label.py:151: DeprecationWarning: The truth value of an empty array is ambiguous. Returning False, but in future this will result in an error. Use `array.size > 0` to check that an array is not empty.\n",
      "  if diff:\n",
      "C:\\Anaconda3\\lib\\site-packages\\sklearn\\preprocessing\\label.py:151: DeprecationWarning: The truth value of an empty array is ambiguous. Returning False, but in future this will result in an error. Use `array.size > 0` to check that an array is not empty.\n",
      "  if diff:\n",
      "C:\\Anaconda3\\lib\\site-packages\\sklearn\\preprocessing\\label.py:151: DeprecationWarning: The truth value of an empty array is ambiguous. Returning False, but in future this will result in an error. Use `array.size > 0` to check that an array is not empty.\n",
      "  if diff:\n"
     ]
    },
    {
     "name": "stdout",
     "output_type": "stream",
     "text": [
      "3\n"
     ]
    },
    {
     "name": "stderr",
     "output_type": "stream",
     "text": [
      "C:\\Anaconda3\\lib\\site-packages\\sklearn\\preprocessing\\label.py:151: DeprecationWarning: The truth value of an empty array is ambiguous. Returning False, but in future this will result in an error. Use `array.size > 0` to check that an array is not empty.\n",
      "  if diff:\n",
      "C:\\Anaconda3\\lib\\site-packages\\sklearn\\preprocessing\\label.py:151: DeprecationWarning: The truth value of an empty array is ambiguous. Returning False, but in future this will result in an error. Use `array.size > 0` to check that an array is not empty.\n",
      "  if diff:\n",
      "C:\\Anaconda3\\lib\\site-packages\\sklearn\\preprocessing\\label.py:151: DeprecationWarning: The truth value of an empty array is ambiguous. Returning False, but in future this will result in an error. Use `array.size > 0` to check that an array is not empty.\n",
      "  if diff:\n"
     ]
    },
    {
     "name": "stdout",
     "output_type": "stream",
     "text": [
      "4\n"
     ]
    },
    {
     "name": "stderr",
     "output_type": "stream",
     "text": [
      "C:\\Anaconda3\\lib\\site-packages\\sklearn\\preprocessing\\label.py:151: DeprecationWarning: The truth value of an empty array is ambiguous. Returning False, but in future this will result in an error. Use `array.size > 0` to check that an array is not empty.\n",
      "  if diff:\n",
      "C:\\Anaconda3\\lib\\site-packages\\sklearn\\preprocessing\\label.py:151: DeprecationWarning: The truth value of an empty array is ambiguous. Returning False, but in future this will result in an error. Use `array.size > 0` to check that an array is not empty.\n",
      "  if diff:\n",
      "C:\\Anaconda3\\lib\\site-packages\\sklearn\\preprocessing\\label.py:151: DeprecationWarning: The truth value of an empty array is ambiguous. Returning False, but in future this will result in an error. Use `array.size > 0` to check that an array is not empty.\n",
      "  if diff:\n"
     ]
    },
    {
     "name": "stdout",
     "output_type": "stream",
     "text": [
      "5\n",
      "6\n",
      "7\n",
      "8\n",
      "9\n",
      "10\n",
      "11\n",
      "12\n",
      "Fitting 3 folds for each of 320 candidates, totalling 960 fits\n"
     ]
    },
    {
     "name": "stderr",
     "output_type": "stream",
     "text": [
      "[Parallel(n_jobs=-1)]: Done  34 tasks      | elapsed:   28.3s\n",
      "[Parallel(n_jobs=-1)]: Done 184 tasks      | elapsed:  2.8min\n",
      "[Parallel(n_jobs=-1)]: Done 434 tasks      | elapsed:  6.9min\n",
      "[Parallel(n_jobs=-1)]: Done 784 tasks      | elapsed: 14.0min\n",
      "[Parallel(n_jobs=-1)]: Done 960 out of 960 | elapsed: 17.8min finished\n"
     ]
    }
   ],
   "source": [
    "features = model.fit(Xn_train, y_train)"
   ]
  },
  {
   "cell_type": "code",
   "execution_count": 9,
   "metadata": {},
   "outputs": [
    {
     "name": "stderr",
     "output_type": "stream",
     "text": [
      "C:\\Anaconda3\\lib\\site-packages\\sklearn\\preprocessing\\label.py:151: DeprecationWarning: The truth value of an empty array is ambiguous. Returning False, but in future this will result in an error. Use `array.size > 0` to check that an array is not empty.\n",
      "  if diff:\n",
      "C:\\Anaconda3\\lib\\site-packages\\sklearn\\preprocessing\\label.py:151: DeprecationWarning: The truth value of an empty array is ambiguous. Returning False, but in future this will result in an error. Use `array.size > 0` to check that an array is not empty.\n",
      "  if diff:\n",
      "C:\\Anaconda3\\lib\\site-packages\\sklearn\\preprocessing\\label.py:151: DeprecationWarning: The truth value of an empty array is ambiguous. Returning False, but in future this will result in an error. Use `array.size > 0` to check that an array is not empty.\n",
      "  if diff:\n",
      "C:\\Anaconda3\\lib\\site-packages\\sklearn\\preprocessing\\label.py:151: DeprecationWarning: The truth value of an empty array is ambiguous. Returning False, but in future this will result in an error. Use `array.size > 0` to check that an array is not empty.\n",
      "  if diff:\n",
      "C:\\Anaconda3\\lib\\site-packages\\sklearn\\preprocessing\\label.py:151: DeprecationWarning: The truth value of an empty array is ambiguous. Returning False, but in future this will result in an error. Use `array.size > 0` to check that an array is not empty.\n",
      "  if diff:\n",
      "C:\\Anaconda3\\lib\\site-packages\\sklearn\\preprocessing\\label.py:151: DeprecationWarning: The truth value of an empty array is ambiguous. Returning False, but in future this will result in an error. Use `array.size > 0` to check that an array is not empty.\n",
      "  if diff:\n",
      "C:\\Anaconda3\\lib\\site-packages\\sklearn\\preprocessing\\label.py:151: DeprecationWarning: The truth value of an empty array is ambiguous. Returning False, but in future this will result in an error. Use `array.size > 0` to check that an array is not empty.\n",
      "  if diff:\n",
      "C:\\Anaconda3\\lib\\site-packages\\sklearn\\preprocessing\\label.py:151: DeprecationWarning: The truth value of an empty array is ambiguous. Returning False, but in future this will result in an error. Use `array.size > 0` to check that an array is not empty.\n",
      "  if diff:\n",
      "C:\\Anaconda3\\lib\\site-packages\\sklearn\\preprocessing\\label.py:151: DeprecationWarning: The truth value of an empty array is ambiguous. Returning False, but in future this will result in an error. Use `array.size > 0` to check that an array is not empty.\n",
      "  if diff:\n",
      "C:\\Anaconda3\\lib\\site-packages\\sklearn\\preprocessing\\label.py:151: DeprecationWarning: The truth value of an empty array is ambiguous. Returning False, but in future this will result in an error. Use `array.size > 0` to check that an array is not empty.\n",
      "  if diff:\n",
      "C:\\Anaconda3\\lib\\site-packages\\sklearn\\preprocessing\\label.py:151: DeprecationWarning: The truth value of an empty array is ambiguous. Returning False, but in future this will result in an error. Use `array.size > 0` to check that an array is not empty.\n",
      "  if diff:\n",
      "C:\\Anaconda3\\lib\\site-packages\\sklearn\\preprocessing\\label.py:151: DeprecationWarning: The truth value of an empty array is ambiguous. Returning False, but in future this will result in an error. Use `array.size > 0` to check that an array is not empty.\n",
      "  if diff:\n",
      "C:\\Anaconda3\\lib\\site-packages\\sklearn\\preprocessing\\label.py:151: DeprecationWarning: The truth value of an empty array is ambiguous. Returning False, but in future this will result in an error. Use `array.size > 0` to check that an array is not empty.\n",
      "  if diff:\n",
      "C:\\Anaconda3\\lib\\site-packages\\sklearn\\preprocessing\\label.py:151: DeprecationWarning: The truth value of an empty array is ambiguous. Returning False, but in future this will result in an error. Use `array.size > 0` to check that an array is not empty.\n",
      "  if diff:\n",
      "C:\\Anaconda3\\lib\\site-packages\\sklearn\\preprocessing\\label.py:151: DeprecationWarning: The truth value of an empty array is ambiguous. Returning False, but in future this will result in an error. Use `array.size > 0` to check that an array is not empty.\n",
      "  if diff:\n"
     ]
    }
   ],
   "source": [
    "prob, tfeatures = model.predict_proba(Xn_test)"
   ]
  },
  {
   "cell_type": "code",
   "execution_count": 10,
   "metadata": {},
   "outputs": [
    {
     "name": "stdout",
     "output_type": "stream",
     "text": [
      "0.968822868080134\n"
     ]
    }
   ],
   "source": [
    "print(roc_auc_score(y_test, np.squeeze(prob[:,1])))"
   ]
  },
  {
   "cell_type": "code",
   "execution_count": 11,
   "metadata": {},
   "outputs": [
    {
     "data": {
      "text/plain": [
       "XGBClassifier(base_score=0.5, booster='gbtree', colsample_bylevel=0.85,\n",
       "       colsample_bytree=1, gamma=0, learning_rate=0.03, max_delta_step=0,\n",
       "       max_depth=8, min_child_weight=1, missing=None, n_estimators=200,\n",
       "       n_jobs=1, nthread=None, objective='binary:logistic', random_state=0,\n",
       "       reg_alpha=0, reg_lambda=1, scale_pos_weight=1, seed=None,\n",
       "       silent=True, subsample=0.75)"
      ]
     },
     "execution_count": 11,
     "metadata": {},
     "output_type": "execute_result"
    }
   ],
   "source": [
    "model.meta_learner.best_estimator_"
   ]
  },
  {
   "cell_type": "code",
   "execution_count": 12,
   "metadata": {},
   "outputs": [
    {
     "data": {
      "text/plain": [
       "array([1.14255175e-01, 1.08910270e-01, 1.08784504e-01, 1.81097910e-02,\n",
       "       4.40168520e-03, 3.20694200e-03, 6.28812195e-05, 1.74180977e-02,\n",
       "       3.20694200e-03, 6.16235938e-03, 1.09413322e-02, 8.61472636e-03,\n",
       "       5.72219072e-03, 2.20084260e-03, 5.63415699e-02, 8.02364349e-02,\n",
       "       1.18405335e-01, 1.03754006e-01, 1.36640891e-01, 7.41998386e-03,\n",
       "       6.16235938e-03, 2.57812999e-03, 6.97981520e-03, 1.01238759e-02,\n",
       "       8.74048937e-03, 1.01238759e-02, 3.45846685e-03, 6.85405266e-03,\n",
       "       6.47676550e-03, 1.37709863e-02, 9.93523281e-03], dtype=float32)"
      ]
     },
     "execution_count": 12,
     "metadata": {},
     "output_type": "execute_result"
    }
   ],
   "source": [
    "model.meta_learner.best_estimator_.feature_importances_"
   ]
  },
  {
   "cell_type": "code",
   "execution_count": 13,
   "metadata": {},
   "outputs": [
    {
     "name": "stderr",
     "output_type": "stream",
     "text": [
      "C:\\Anaconda3\\lib\\site-packages\\sklearn\\preprocessing\\label.py:151: DeprecationWarning: The truth value of an empty array is ambiguous. Returning False, but in future this will result in an error. Use `array.size > 0` to check that an array is not empty.\n",
      "  if diff:\n",
      "C:\\Anaconda3\\lib\\site-packages\\sklearn\\preprocessing\\label.py:151: DeprecationWarning: The truth value of an empty array is ambiguous. Returning False, but in future this will result in an error. Use `array.size > 0` to check that an array is not empty.\n",
      "  if diff:\n",
      "C:\\Anaconda3\\lib\\site-packages\\sklearn\\preprocessing\\label.py:151: DeprecationWarning: The truth value of an empty array is ambiguous. Returning False, but in future this will result in an error. Use `array.size > 0` to check that an array is not empty.\n",
      "  if diff:\n",
      "C:\\Anaconda3\\lib\\site-packages\\sklearn\\preprocessing\\label.py:151: DeprecationWarning: The truth value of an empty array is ambiguous. Returning False, but in future this will result in an error. Use `array.size > 0` to check that an array is not empty.\n",
      "  if diff:\n",
      "C:\\Anaconda3\\lib\\site-packages\\sklearn\\preprocessing\\label.py:151: DeprecationWarning: The truth value of an empty array is ambiguous. Returning False, but in future this will result in an error. Use `array.size > 0` to check that an array is not empty.\n",
      "  if diff:\n",
      "C:\\Anaconda3\\lib\\site-packages\\sklearn\\preprocessing\\label.py:151: DeprecationWarning: The truth value of an empty array is ambiguous. Returning False, but in future this will result in an error. Use `array.size > 0` to check that an array is not empty.\n",
      "  if diff:\n",
      "C:\\Anaconda3\\lib\\site-packages\\sklearn\\preprocessing\\label.py:151: DeprecationWarning: The truth value of an empty array is ambiguous. Returning False, but in future this will result in an error. Use `array.size > 0` to check that an array is not empty.\n",
      "  if diff:\n",
      "C:\\Anaconda3\\lib\\site-packages\\sklearn\\preprocessing\\label.py:151: DeprecationWarning: The truth value of an empty array is ambiguous. Returning False, but in future this will result in an error. Use `array.size > 0` to check that an array is not empty.\n",
      "  if diff:\n",
      "C:\\Anaconda3\\lib\\site-packages\\sklearn\\preprocessing\\label.py:151: DeprecationWarning: The truth value of an empty array is ambiguous. Returning False, but in future this will result in an error. Use `array.size > 0` to check that an array is not empty.\n",
      "  if diff:\n",
      "C:\\Anaconda3\\lib\\site-packages\\sklearn\\preprocessing\\label.py:151: DeprecationWarning: The truth value of an empty array is ambiguous. Returning False, but in future this will result in an error. Use `array.size > 0` to check that an array is not empty.\n",
      "  if diff:\n",
      "C:\\Anaconda3\\lib\\site-packages\\sklearn\\preprocessing\\label.py:151: DeprecationWarning: The truth value of an empty array is ambiguous. Returning False, but in future this will result in an error. Use `array.size > 0` to check that an array is not empty.\n",
      "  if diff:\n",
      "C:\\Anaconda3\\lib\\site-packages\\sklearn\\preprocessing\\label.py:151: DeprecationWarning: The truth value of an empty array is ambiguous. Returning False, but in future this will result in an error. Use `array.size > 0` to check that an array is not empty.\n",
      "  if diff:\n",
      "C:\\Anaconda3\\lib\\site-packages\\sklearn\\preprocessing\\label.py:151: DeprecationWarning: The truth value of an empty array is ambiguous. Returning False, but in future this will result in an error. Use `array.size > 0` to check that an array is not empty.\n",
      "  if diff:\n",
      "C:\\Anaconda3\\lib\\site-packages\\sklearn\\preprocessing\\label.py:151: DeprecationWarning: The truth value of an empty array is ambiguous. Returning False, but in future this will result in an error. Use `array.size > 0` to check that an array is not empty.\n",
      "  if diff:\n",
      "C:\\Anaconda3\\lib\\site-packages\\sklearn\\preprocessing\\label.py:151: DeprecationWarning: The truth value of an empty array is ambiguous. Returning False, but in future this will result in an error. Use `array.size > 0` to check that an array is not empty.\n",
      "  if diff:\n"
     ]
    }
   ],
   "source": [
    "y_pred_prob, ttfeature = model.predict_proba(Xn_t)\n",
    "with open(\"pred_meta.csv\",\"w\") as f:\n",
    "    f.write(\"Id,Prediction\\n\")\n",
    "    for i in range(1,len(y_pred_prob)+1):\n",
    "        f.write(str(i) + \",\" + str(y_pred_prob[i-1][1]) + \"\\n\")"
   ]
  },
  {
   "cell_type": "code",
   "execution_count": 16,
   "metadata": {},
   "outputs": [
    {
     "data": {
      "text/plain": [
       "31"
      ]
     },
     "execution_count": 16,
     "metadata": {},
     "output_type": "execute_result"
    }
   ],
   "source": [
    "features.shape"
   ]
  },
  {
   "cell_type": "code",
   "execution_count": 14,
   "metadata": {},
   "outputs": [
    {
     "name": "stderr",
     "output_type": "stream",
     "text": [
      "C:\\Anaconda3\\lib\\site-packages\\h5py\\__init__.py:36: FutureWarning: Conversion of the second argument of issubdtype from `float` to `np.floating` is deprecated. In future, it will be treated as `np.float64 == np.dtype(float).type`.\n",
      "  from ._conv import register_converters as _register_converters\n"
     ]
    }
   ],
   "source": [
    "import tensorflow as tf"
   ]
  },
  {
   "cell_type": "code",
   "execution_count": 45,
   "metadata": {},
   "outputs": [],
   "source": [
    "batch = 200\n",
    "epoch = 50\n",
    "\n",
    "tf.reset_default_graph()\n",
    "\n",
    "f_num = features.shape[-1]\n",
    "\n",
    "X_in = tf.placeholder(tf.float32, [None, f_num])\n",
    "y = tf.placeholder(tf.int32, [None])\n",
    "y_oh = tf.one_hot(y, 2)\n",
    "\n",
    "h1 = tf.layers.dense(X_in, f_num, activation=tf.nn.relu)\n",
    "h2 = tf.layers.dense(h1+X_in, f_num, activation=tf.nn.relu)\n",
    "out = tf.layers.dense(h2+h1, 2)\n",
    "loss = tf.losses.softmax_cross_entropy(y_oh, out)\n",
    "optimizer = tf.train.AdamOptimizer()\n",
    "train_step = optimizer.minimize(loss)\n",
    "\n",
    "\n",
    "pred = tf.nn.softmax(out)\n",
    "_,acc = tf.metrics.accuracy(y, tf.argmax(pred, 1))\n",
    "auc = tf.metrics.auc(y_oh, pred)\n",
    "\n",
    "dataset = tf.data.Dataset.from_tensor_slices((features, y_train))\n",
    "dataset = dataset.repeat(epoch)\n",
    "dataset = dataset.batch(batch)\n",
    "iterator = dataset.make_initializable_iterator()\n",
    "next_element = iterator.get_next()"
   ]
  },
  {
   "cell_type": "code",
   "execution_count": 46,
   "metadata": {},
   "outputs": [
    {
     "name": "stdout",
     "output_type": "stream",
     "text": [
      "accuracy 0.8955000042915344, auc (0.0, 0.9505647)\n",
      "accuracy 0.8955000042915344, auc (0.9505647, 0.9532799)\n",
      "accuracy 0.8953333497047424, auc (0.9532799, 0.95418054)\n",
      "accuracy 0.8953750133514404, auc (0.95418054, 0.9548164)\n",
      "accuracy 0.8955000042915344, auc (0.9548164, 0.95537287)\n",
      "accuracy 0.8957083225250244, auc (0.95537287, 0.9558708)\n",
      "accuracy 0.8956785798072815, auc (0.9558708, 0.9561421)\n",
      "accuracy 0.8957187533378601, auc (0.9561421, 0.9563302)\n",
      "accuracy 0.8957222104072571, auc (0.9563302, 0.95662004)\n",
      "accuracy 0.895799994468689, auc (0.95662004, 0.9568718)\n",
      "accuracy 0.8959090709686279, auc (0.9568718, 0.95702696)\n",
      "accuracy 0.8958749771118164, auc (0.95702696, 0.95710117)\n",
      "accuracy 0.8958653807640076, auc (0.95710117, 0.95728564)\n",
      "accuracy 0.895892858505249, auc (0.95728564, 0.9574387)\n",
      "accuracy 0.8959833383560181, auc (0.9574387, 0.95754987)\n",
      "accuracy 0.8958906531333923, auc (0.95754987, 0.95759064)\n",
      "accuracy 0.8959705829620361, auc (0.95759064, 0.957707)\n",
      "accuracy 0.8960555791854858, auc (0.957707, 0.9577991)\n",
      "accuracy 0.8961842060089111, auc (0.9577991, 0.957863)\n",
      "accuracy 0.8960750102996826, auc (0.957863, 0.95788544)\n",
      "accuracy 0.8961309790611267, auc (0.95788544, 0.9579828)\n",
      "accuracy 0.8962045311927795, auc (0.9579828, 0.95805144)\n",
      "accuracy 0.8963478207588196, auc (0.95805144, 0.9581089)\n",
      "accuracy 0.8962395787239075, auc (0.9581089, 0.95812076)\n",
      "accuracy 0.8962900042533875, auc (0.95812076, 0.9581987)\n",
      "accuracy 0.8963461518287659, auc (0.9581987, 0.9582501)\n",
      "accuracy 0.8964259028434753, auc (0.9582501, 0.9582973)\n",
      "accuracy 0.8963750004768372, auc (0.9582973, 0.95829946)\n",
      "accuracy 0.896431028842926, auc (0.95829946, 0.95836043)\n",
      "accuracy 0.8964666724205017, auc (0.95836043, 0.9583994)\n",
      "accuracy 0.8965161442756653, auc (0.9583994, 0.9584354)\n",
      "accuracy 0.8965156078338623, auc (0.9584354, 0.95843446)\n",
      "accuracy 0.8965681791305542, auc (0.95843446, 0.95848495)\n",
      "accuracy 0.8965808749198914, auc (0.95848495, 0.95851195)\n",
      "accuracy 0.8966071605682373, auc (0.95851195, 0.958541)\n",
      "accuracy 0.8965694308280945, auc (0.958541, 0.9585375)\n",
      "accuracy 0.8966081142425537, auc (0.9585375, 0.95857906)\n",
      "accuracy 0.8965920805931091, auc (0.95857906, 0.9585959)\n",
      "accuracy 0.8966153860092163, auc (0.9585959, 0.9586192)\n",
      "accuracy 0.896568775177002, auc (0.9586192, 0.95861155)\n",
      "accuracy 0.8965243697166443, auc (0.95861155, 0.9586047)\n"
     ]
    }
   ],
   "source": [
    "with tf.device(\"/gpu:0\"):\n",
    "    with tf.Session() as sess:\n",
    "        \n",
    "        sess.run(tf.global_variables_initializer())\n",
    "        sess.run(tf.local_variables_initializer())\n",
    "        sess.run(iterator.initializer)\n",
    "        \n",
    "        count = 0\n",
    "        while True:\n",
    "            try:\n",
    "                bf, by = sess.run(next_element)\n",
    "                sess.run(train_step, feed_dict={X_in:bf, y:by})\n",
    "                count += 1\n",
    "                if count % 100 == 0:\n",
    "                    a1, a2 = sess.run([acc, auc], feed_dict={X_in:tfeatures, y:y_test})\n",
    "                    print(\"accuracy {}, auc {}\".format(a1, a2))\n",
    "            except tf.errors.OutOfRangeError:\n",
    "                a1, a2 = sess.run([acc, auc], feed_dict={X_in:tfeatures, y:y_test})\n",
    "                print(\"accuracy {}, auc {}\".format(a1, a2))\n",
    "                prob = sess.run(pred, feed_dict={X_in:ttfeature})\n",
    "                break"
   ]
  },
  {
   "cell_type": "code",
   "execution_count": 47,
   "metadata": {},
   "outputs": [],
   "source": [
    "with open(\"pred_meta.csv\",\"w\") as f:\n",
    "    f.write(\"Id,Prediction\\n\")\n",
    "    for i in range(1,len(prob)+1):\n",
    "        f.write(str(i) + \",\" + str(prob[i-1][1]) + \"\\n\")"
   ]
  },
  {
   "cell_type": "code",
   "execution_count": null,
   "metadata": {},
   "outputs": [],
   "source": []
  }
 ],
 "metadata": {
  "kernelspec": {
   "display_name": "Python 3",
   "language": "python",
   "name": "python3"
  },
  "language_info": {
   "codemirror_mode": {
    "name": "ipython",
    "version": 3
   },
   "file_extension": ".py",
   "mimetype": "text/x-python",
   "name": "python",
   "nbconvert_exporter": "python",
   "pygments_lexer": "ipython3",
   "version": "3.6.5"
  }
 },
 "nbformat": 4,
 "nbformat_minor": 2
}

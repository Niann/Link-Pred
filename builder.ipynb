{
 "cells": [
  {
   "cell_type": "code",
   "execution_count": 1,
   "metadata": {},
   "outputs": [],
   "source": [
    "import random\n",
    "import pickle\n",
    "import sklearn\n",
    "import numpy as np\n",
    "\n",
    "from feature_extractor import *\n",
    "from tqdm import tqdm\n",
    "from sklearn.model_selection import train_test_split\n",
    "from sklearn.model_selection import GridSearchCV\n",
    "from sklearn.ensemble import RandomForestClassifier\n",
    "from sklearn.metrics import roc_auc_score"
   ]
  },
  {
   "cell_type": "markdown",
   "metadata": {},
   "source": [
    "## Run this first time"
   ]
  },
  {
   "cell_type": "code",
   "execution_count": 2,
   "metadata": {},
   "outputs": [],
   "source": [
    "matrix = {}\n",
    "for line in tqdm(lines, ascii = True):\n",
    "    temp = list(map(int, line.split()))\n",
    "    if len(temp[1:]) > 0:\n",
    "        matrix[temp[0]] = set(temp[1:])\n",
    "\n",
    "with open(\"matrix.pickle\",\"wb\") as f:\n",
    "    pickle.dump(matrix, f)"
   ]
  },
  {
   "cell_type": "markdown",
   "metadata": {},
   "source": [
    "Flag 1"
   ]
  },
  {
   "cell_type": "code",
   "execution_count": null,
   "metadata": {},
   "outputs": [],
   "source": [
    "with open(\"raw.pickle\",\"rb\") as f:\n",
    "    data = pickle.load(f)"
   ]
  },
  {
   "cell_type": "code",
   "execution_count": 3,
   "metadata": {},
   "outputs": [],
   "source": [
    "with open(\"matrix.pickle\",\"rb\") as f:\n",
    "    matrix = pickle.load(f)"
   ]
  },
  {
   "cell_type": "code",
   "execution_count": 17,
   "metadata": {},
   "outputs": [],
   "source": [
    "def feature_generator(pairs):\n",
    "    \n",
    "    X = []\n",
    "    for datum in tqdm(pairs):\n",
    "        a, b = datum\n",
    "\n",
    "        # node feature\n",
    "        a_in = indegree(a, matrix)\n",
    "        a_out = outdegree(a, matrix)\n",
    "        b_in = indegree(b, matrix)\n",
    "        b_out = indegree(b, matrix)\n",
    "\n",
    "        # neighbouring feature\n",
    "        neighbour = common_neighbour(a, b, matrix)\n",
    "        jac = jaccard(neighbour, a, b, matrix)\n",
    "        p_a = pref_attach(a, b, matrix)\n",
    "        cos = cosine_sim(neighbour, p_a)\n",
    "        adar = adamic_adar(a, b, matrix)\n",
    "\n",
    "        # path feature\n",
    "        #sim_r = sim_rank(a, b, matrix, 0)\n",
    "\n",
    "        X.append([a_in,a_out,b_in,b_out,neighbour,jac,p_a,cos,adar])\n",
    "        \n",
    "    return X"
   ]
  },
  {
   "cell_type": "markdown",
   "metadata": {},
   "source": [
    "## Flag 2"
   ]
  },
  {
   "cell_type": "code",
   "execution_count": 5,
   "metadata": {},
   "outputs": [],
   "source": [
    "X_train = np.load(\"Xtrain\")\n",
    "X_test = np.load(\"Xtest\")\n",
    "y_train = np.load(\"ytrain\")\n",
    "y_test = np.load(\"ytest\")"
   ]
  },
  {
   "cell_type": "code",
   "execution_count": 6,
   "metadata": {},
   "outputs": [
    {
     "name": "stderr",
     "output_type": "stream",
     "text": [
      "[Parallel(n_jobs=-1)]: Done  34 tasks      | elapsed:    0.3s\n",
      "[Parallel(n_jobs=-1)]: Done 100 out of 100 | elapsed:    0.9s finished\n",
      "[Parallel(n_jobs=8)]: Done  34 tasks      | elapsed:    0.0s\n",
      "[Parallel(n_jobs=8)]: Done 100 out of 100 | elapsed:    0.1s finished\n"
     ]
    },
    {
     "name": "stdout",
     "output_type": "stream",
     "text": [
      "0.6296666666666667\n"
     ]
    }
   ],
   "source": [
    "rf = RandomForestClassifier(n_estimators=100, n_jobs=-1, verbose=1)\n",
    "rf.fit(X_train, y_train)\n",
    "print(rf.score(X_test, y_test))"
   ]
  },
  {
   "cell_type": "code",
   "execution_count": 7,
   "metadata": {},
   "outputs": [
    {
     "name": "stdout",
     "output_type": "stream",
     "text": [
      "      Iter       Train Loss   Remaining Time \n",
      "         1           1.3596            2.27s\n",
      "         2           1.3378            2.10s\n",
      "         3           1.3198            2.23s\n",
      "         4           1.3047            2.13s\n",
      "         5           1.2917            2.05s\n",
      "         6           1.2808            2.00s\n",
      "         7           1.2713            1.96s\n",
      "         8           1.2623            1.96s\n",
      "         9           1.2546            1.93s\n",
      "        10           1.2484            1.90s\n",
      "        20           1.2097            1.41s\n",
      "        30           1.1913            1.13s\n",
      "        40           1.1801            0.98s\n",
      "        50           1.1692            0.79s\n",
      "        60           1.1610            0.63s\n",
      "        70           1.1544            0.48s\n",
      "        80           1.1499            0.31s\n",
      "        90           1.1462            0.16s\n",
      "       100           1.1428            0.00s\n",
      "0.6653333333333333\n"
     ]
    }
   ],
   "source": [
    "from sklearn.ensemble import GradientBoostingClassifier\n",
    "\n",
    "gbdt = GradientBoostingClassifier(verbose=1)\n",
    "gbdt.fit(X_train, y_train)\n",
    "print(gbdt.score(X_test, y_test))"
   ]
  },
  {
   "cell_type": "code",
   "execution_count": 13,
   "metadata": {},
   "outputs": [
    {
     "name": "stdout",
     "output_type": "stream",
     "text": [
      "0.6623333333333333\n"
     ]
    }
   ],
   "source": [
    "base = GradientBoostingClassifier()\n",
    "parameters = {\"learning_rate\":[0.05,0.1,0.15,0.2,0.3],\n",
    "              \"max_depth\":[2,3,5,7],\n",
    "              \"min_samples_leaf\":[1,3,5]}\n",
    "model = GridSearchCV(base, parameters, n_jobs=-1)\n",
    "model.fit(X_train, y_train)\n",
    "print(model.score(X_test, y_test))"
   ]
  },
  {
   "cell_type": "code",
   "execution_count": 15,
   "metadata": {},
   "outputs": [
    {
     "name": "stdout",
     "output_type": "stream",
     "text": [
      "0.7404098187596537\n"
     ]
    }
   ],
   "source": [
    "print(roc_auc_score(y_test, np.squeeze(model.predict_proba(X_test))[:,1]))"
   ]
  },
  {
   "cell_type": "code",
   "execution_count": 14,
   "metadata": {},
   "outputs": [
    {
     "data": {
      "text/plain": [
       "GradientBoostingClassifier(criterion='friedman_mse', init=None,\n",
       "              learning_rate=0.2, loss='deviance', max_depth=3,\n",
       "              max_features=None, max_leaf_nodes=None,\n",
       "              min_impurity_decrease=0.0, min_impurity_split=None,\n",
       "              min_samples_leaf=1, min_samples_split=2,\n",
       "              min_weight_fraction_leaf=0.0, n_estimators=100,\n",
       "              presort='auto', random_state=None, subsample=1.0, verbose=0,\n",
       "              warm_start=False)"
      ]
     },
     "execution_count": 14,
     "metadata": {},
     "output_type": "execute_result"
    }
   ],
   "source": [
    "model.best_estimator_"
   ]
  },
  {
   "cell_type": "code",
   "execution_count": 11,
   "metadata": {},
   "outputs": [
    {
     "data": {
      "text/plain": [
       "array([0.16155703, 0.22354075, 0.1681103 , 0.14384539, 0.02819839,\n",
       "       0.04747582, 0.11487595, 0.08677268, 0.0256237 ])"
      ]
     },
     "execution_count": 11,
     "metadata": {},
     "output_type": "execute_result"
    }
   ],
   "source": [
    "model.best_estimator_.feature_importances_"
   ]
  },
  {
   "cell_type": "code",
   "execution_count": 16,
   "metadata": {},
   "outputs": [
    {
     "name": "stdout",
     "output_type": "stream",
     "text": [
      "2000\n"
     ]
    }
   ],
   "source": [
    "with open(\"test-public.txt\",\"r\") as f:\n",
    "    test = f.readlines()\n",
    "\n",
    "X_t = []\n",
    "for l in test[1:]:\n",
    "    temp = list(map(int, l.split()))\n",
    "    X_t.append([temp[1], temp[2]])\n",
    "print(len(X_t))"
   ]
  },
  {
   "cell_type": "code",
   "execution_count": 18,
   "metadata": {},
   "outputs": [
    {
     "name": "stderr",
     "output_type": "stream",
     "text": [
      "100%|██████████████████████████████████████████████████████████████████████████████| 2000/2000 [00:24<00:00, 80.91it/s]\n"
     ]
    }
   ],
   "source": [
    "X_t = np.array(feature_generator(X_t))"
   ]
  },
  {
   "cell_type": "code",
   "execution_count": 19,
   "metadata": {},
   "outputs": [],
   "source": [
    "y_pred = model.best_estimator_.predict(X_t)"
   ]
  },
  {
   "cell_type": "code",
   "execution_count": 21,
   "metadata": {},
   "outputs": [],
   "source": [
    "y_pred_prob = model.best_estimator_.predict_proba(X_t)"
   ]
  },
  {
   "cell_type": "code",
   "execution_count": 22,
   "metadata": {},
   "outputs": [],
   "source": [
    "with open(\"pred.csv\",\"w\") as f:\n",
    "    f.write(\"Id,Prediction\\n\")\n",
    "    for i in range(1,len(y_pred_prob)+1):\n",
    "        f.write(str(i) + \",\" + str(y_pred_prob[i-1][1]) + \"\\n\")"
   ]
  },
  {
   "cell_type": "code",
   "execution_count": null,
   "metadata": {},
   "outputs": [],
   "source": [
    "X_t[-1]"
   ]
  },
  {
   "cell_type": "code",
   "execution_count": 20,
   "metadata": {},
   "outputs": [
    {
     "data": {
      "text/plain": [
       "1131"
      ]
     },
     "execution_count": 20,
     "metadata": {},
     "output_type": "execute_result"
    }
   ],
   "source": [
    "(y_pred == 0).sum()"
   ]
  },
  {
   "cell_type": "code",
   "execution_count": null,
   "metadata": {},
   "outputs": [],
   "source": [
    "model.best_estimator_.classes_"
   ]
  },
  {
   "cell_type": "code",
   "execution_count": null,
   "metadata": {},
   "outputs": [],
   "source": []
  }
 ],
 "metadata": {
  "kernelspec": {
   "display_name": "Python 3",
   "language": "python",
   "name": "python3"
  },
  "language_info": {
   "codemirror_mode": {
    "name": "ipython",
    "version": 3
   },
   "file_extension": ".py",
   "mimetype": "text/x-python",
   "name": "python",
   "nbconvert_exporter": "python",
   "pygments_lexer": "ipython3",
   "version": "3.6.5"
  }
 },
 "nbformat": 4,
 "nbformat_minor": 2
}

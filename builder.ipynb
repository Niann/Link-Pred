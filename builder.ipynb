{
 "cells": [
  {
   "cell_type": "code",
   "execution_count": null,
   "metadata": {},
   "outputs": [],
   "source": [
    "import random\n",
    "import pickle\n",
    "import sklearn\n",
    "import numpy as np\n",
    "\n",
    "from feature_extractor import *\n",
    "from tqdm import tqdm\n",
    "from sklearn.model_selection import train_test_split\n",
    "from sklearn.model_selection import GridSearchCV\n",
    "from sklearn.ensemble import RandomForestClassifier\n",
    "from sklearn.metrics import roc_auc_score"
   ]
  },
  {
   "cell_type": "markdown",
   "metadata": {},
   "source": [
    "## Run this first time"
   ]
  },
  {
   "cell_type": "code",
   "execution_count": null,
   "metadata": {},
   "outputs": [],
   "source": [
    "matrix = {}\n",
    "for line in tqdm(lines, ascii = True):\n",
    "    temp = list(map(int, line.split()))\n",
    "    if len(temp[1:]) > 0:\n",
    "        matrix[temp[0]] = set(temp[1:])\n",
    "\n",
    "with open(\"matrix.pickle\",\"wb\") as f:\n",
    "    pickle.dump(matrix, f)"
   ]
  },
  {
   "cell_type": "markdown",
   "metadata": {},
   "source": [
    "## Flag 1"
   ]
  },
  {
   "cell_type": "code",
   "execution_count": null,
   "metadata": {},
   "outputs": [],
   "source": [
    "with open(\"matrix.pickle\",\"rb\") as f:\n",
    "    matrix = pickle.load(f)"
   ]
  },
  {
   "cell_type": "code",
   "execution_count": null,
   "metadata": {},
   "outputs": [],
   "source": [
    "def feature_generator(pairs):\n",
    "    \n",
    "    X = []\n",
    "    for datum in tqdm(pairs):\n",
    "        a, b = datum\n",
    "\n",
    "        # node feature\n",
    "        a_in = indegree(a, matrix)\n",
    "        a_out = outdegree(a, matrix)\n",
    "        b_in = indegree(b, matrix)\n",
    "        b_out = indegree(b, matrix)\n",
    "\n",
    "        # neighbouring feature\n",
    "        neighbour = common_neighbour(a, b, matrix)\n",
    "        jac = jaccard(neighbour, a, b, matrix)\n",
    "        p_a = pref_attach(a, b, matrix)\n",
    "        cos = cosine_sim(neighbour, p_a)\n",
    "        adar = adamic_adar(a, b, matrix)\n",
    "\n",
    "        # path feature\n",
    "        #sim_r = sim_rank(a, b, matrix, 0)\n",
    "\n",
    "        X.append([a_in,a_out,b_in,b_out,neighbour,jac,p_a,cos,adar])\n",
    "        \n",
    "    return X"
   ]
  },
  {
   "cell_type": "markdown",
   "metadata": {},
   "source": [
    "## Flag 2"
   ]
  },
  {
   "cell_type": "code",
   "execution_count": null,
   "metadata": {},
   "outputs": [],
   "source": [
    "X_train = np.load(\"Xtrain\")\n",
    "X_test = np.load(\"Xtest\")\n",
    "y_train = np.load(\"ytrain\")\n",
    "y_test = np.load(\"ytest\")"
   ]
  },
  {
   "cell_type": "code",
   "execution_count": null,
   "metadata": {},
   "outputs": [],
   "source": [
    "rf = RandomForestClassifier(n_estimators=100, n_jobs=-1, verbose=1)\n",
    "rf.fit(X_train, y_train)\n",
    "print(rf.score(X_test, y_test))"
   ]
  },
  {
   "cell_type": "code",
   "execution_count": null,
   "metadata": {},
   "outputs": [],
   "source": [
    "from sklearn.ensemble import GradientBoostingClassifier\n",
    "\n",
    "gbdt = GradientBoostingClassifier(verbose=1)\n",
    "gbdt.fit(X_train, y_train)\n",
    "print(gbdt.score(X_test, y_test))"
   ]
  },
  {
   "cell_type": "code",
   "execution_count": null,
   "metadata": {},
   "outputs": [],
   "source": [
    "base = GradientBoostingClassifier()\n",
    "parameters = {\"learning_rate\":[0.05,0.1,0.15,0.2,0.3],\n",
    "              \"max_depth\":[2,3,5,7],\n",
    "              \"min_samples_leaf\":[1,3,5]}\n",
    "model = GridSearchCV(base, parameters, n_jobs=-1)\n",
    "model.fit(X_train, y_train)\n",
    "print(model.score(X_test, y_test))"
   ]
  },
  {
   "cell_type": "code",
   "execution_count": null,
   "metadata": {},
   "outputs": [],
   "source": [
    "print(roc_auc_score(y_test, np.squeeze(model.predict_proba(X_test))[:,1]))"
   ]
  },
  {
   "cell_type": "code",
   "execution_count": null,
   "metadata": {},
   "outputs": [],
   "source": [
    "model.best_estimator_"
   ]
  },
  {
   "cell_type": "code",
   "execution_count": null,
   "metadata": {},
   "outputs": [],
   "source": [
    "model.best_estimator_.feature_importances_"
   ]
  },
  {
   "cell_type": "code",
   "execution_count": null,
   "metadata": {},
   "outputs": [],
   "source": [
    "with open(\"test-public.txt\",\"r\") as f:\n",
    "    test = f.readlines()\n",
    "\n",
    "X_t = []\n",
    "for l in test[1:]:\n",
    "    temp = list(map(int, l.split()))\n",
    "    X_t.append([temp[1], temp[2]])\n",
    "print(len(X_t))"
   ]
  },
  {
   "cell_type": "code",
   "execution_count": null,
   "metadata": {},
   "outputs": [],
   "source": [
    "X_t = np.array(feature_generator(X_t))"
   ]
  },
  {
   "cell_type": "code",
   "execution_count": null,
   "metadata": {},
   "outputs": [],
   "source": [
    "y_pred = model.best_estimator_.predict(X_t)"
   ]
  },
  {
   "cell_type": "code",
   "execution_count": null,
   "metadata": {},
   "outputs": [],
   "source": [
    "y_pred_prob = model.best_estimator_.predict_proba(X_t)"
   ]
  },
  {
   "cell_type": "code",
   "execution_count": null,
   "metadata": {},
   "outputs": [],
   "source": [
    "with open(\"pred.csv\",\"w\") as f:\n",
    "    f.write(\"Id,Prediction\\n\")\n",
    "    for i in range(1,len(y_pred_prob)+1):\n",
    "        f.write(str(i) + \",\" + str(y_pred_prob[i-1][1]) + \"\\n\")"
   ]
  },
  {
   "cell_type": "code",
   "execution_count": null,
   "metadata": {},
   "outputs": [],
   "source": [
    "X_t[-1]"
   ]
  },
  {
   "cell_type": "code",
   "execution_count": null,
   "metadata": {},
   "outputs": [],
   "source": [
    "(y_pred == 0).sum()"
   ]
  },
  {
   "cell_type": "code",
   "execution_count": null,
   "metadata": {},
   "outputs": [],
   "source": [
    "model.best_estimator_.classes_"
   ]
  },
  {
   "cell_type": "code",
   "execution_count": null,
   "metadata": {},
   "outputs": [],
   "source": []
  }
 ],
 "metadata": {
  "kernelspec": {
   "display_name": "Python 3",
   "language": "python",
   "name": "python3"
  },
  "language_info": {
   "codemirror_mode": {
    "name": "ipython",
    "version": 3
   },
   "file_extension": ".py",
   "mimetype": "text/x-python",
   "name": "python",
   "nbconvert_exporter": "python",
   "pygments_lexer": "ipython3",
   "version": "3.6.5"
  }
 },
 "nbformat": 4,
 "nbformat_minor": 2
}

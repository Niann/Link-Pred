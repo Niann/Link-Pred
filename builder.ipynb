{
 "cells": [
  {
   "cell_type": "code",
   "execution_count": 1,
   "metadata": {},
   "outputs": [],
   "source": [
    "import random\n",
    "import pickle\n",
    "import sklearn\n",
    "import itertools\n",
    "import numpy as np\n",
    "import matplotlib.pyplot as plt\n",
    "\n",
    "from feature_extractor import *\n",
    "from tqdm import tqdm\n",
    "from sklearn.model_selection import train_test_split\n",
    "from sklearn.model_selection import GridSearchCV\n",
    "from sklearn.ensemble import RandomForestClassifier\n",
    "from sklearn.metrics import roc_auc_score\n",
    "from sklearn.metrics import confusion_matrix\n",
    "\n",
    "%matplotlib inline"
   ]
  },
  {
   "cell_type": "markdown",
   "metadata": {},
   "source": [
    "## Flag 1"
   ]
  },
  {
   "cell_type": "code",
   "execution_count": 2,
   "metadata": {},
   "outputs": [],
   "source": [
    "with open(\"matrix.pickle\",\"rb\") as f:\n",
    "    matrix = pickle.load(f)"
   ]
  },
  {
   "cell_type": "code",
   "execution_count": 3,
   "metadata": {},
   "outputs": [],
   "source": [
    "# adapted from sklearn official website\n",
    "# http://scikit-learn.org/stable/auto_examples/model_selection/plot_confusion_matrix.html#sphx-glr-auto-examples-model-selection-plot-confusion-matrix-py\n",
    "\n",
    "def plot_confusion_matrix(cm,\n",
    "                          normalize=False,\n",
    "                          title='Confusion matrix',\n",
    "                          classes=[\"True Edge\",\"Fake Edge\"],\n",
    "                          cmap=plt.cm.Blues):\n",
    "    \"\"\"\n",
    "    This function prints and plots the confusion matrix.\n",
    "    Normalization can be applied by setting `normalize=True`.\n",
    "    \"\"\"\n",
    "    if normalize:\n",
    "        cm = cm.astype('float') / cm.sum(axis=1)[:, np.newaxis]\n",
    "        print(\"Normalized confusion matrix\")\n",
    "    else:\n",
    "        print('Confusion matrix, without normalization')\n",
    "\n",
    "    print(cm)\n",
    "\n",
    "    plt.imshow(cm, interpolation='nearest', cmap=cmap)\n",
    "    plt.title(title)\n",
    "    plt.colorbar()\n",
    "    tick_marks = np.arange(len(classes))\n",
    "    plt.xticks(tick_marks, classes, rotation=45)\n",
    "    plt.yticks(tick_marks, classes)\n",
    "\n",
    "    fmt = '.2f' if normalize else 'd'\n",
    "    thresh = cm.max() / 2.\n",
    "    for i, j in itertools.product(range(cm.shape[0]), range(cm.shape[1])):\n",
    "        plt.text(j, i, format(cm[i, j], fmt),\n",
    "                 horizontalalignment=\"center\",\n",
    "                 color=\"white\" if cm[i, j] > thresh else \"black\")\n",
    "\n",
    "    plt.tight_layout()\n",
    "    plt.ylabel('True label')\n",
    "    plt.xlabel('Predicted label')"
   ]
  },
  {
   "cell_type": "code",
   "execution_count": 4,
   "metadata": {},
   "outputs": [],
   "source": [
    "def feature_generator(pairs):\n",
    "    \n",
    "    X = []\n",
    "    for datum in tqdm(pairs):\n",
    "        a, b = datum\n",
    "\n",
    "        # node feature\n",
    "        a_in = indegree(a, matrix)\n",
    "        a_out = outdegree(a, matrix)\n",
    "        b_in = indegree(b, matrix)\n",
    "        b_out = indegree(b, matrix)\n",
    "\n",
    "        # neighbouring feature\n",
    "        neighbour = common_neighbour(a, b, matrix)\n",
    "        jac = jaccard(neighbour, a, b, matrix)\n",
    "        dice = dice_idx(neighbour, a, b, matrix)\n",
    "        p_a = pref_attach(a, b, matrix)\n",
    "        cos = cosine_sim(neighbour, p_a)\n",
    "        lhn = LHN(neighbour, p_a)\n",
    "        adar = adamic_adar(a, b, matrix)\n",
    "        ra = resource_allocation(a, b, matrix)\n",
    "        reverse = reverse_link(a, b, matrix)\n",
    "        hp = hub_promoted(neighbour, a, b, matrix)\n",
    "        hd = hub_depressed(neighbour, a, b, matrix)\n",
    "\n",
    "        # path feature\n",
    "        #sim_r = sim_rank(a, b, matrix, 0)\n",
    "\n",
    "        #flow1, flow2, flow3 = propflow(a, b, matrix)\n",
    "        flow1, flow2 = propflow3(a, b, matrix)\n",
    "\n",
    "        X.append([a_in,a_out,b_in,b_out,neighbour,jac,dice,p_a,cos,lhn,adar,reverse,hp,hd,flow1,flow2])\n",
    "        \n",
    "    return X"
   ]
  },
  {
   "cell_type": "markdown",
   "metadata": {},
   "source": [
    "## Training"
   ]
  },
  {
   "cell_type": "code",
   "execution_count": 22,
   "metadata": {},
   "outputs": [
    {
     "name": "stderr",
     "output_type": "stream",
     "text": [
      "C:\\Anaconda3\\lib\\site-packages\\sklearn\\model_selection\\_split.py:2026: FutureWarning: From version 0.21, test_size will always complement train_size unless both are specified.\n",
      "  FutureWarning)\n"
     ]
    }
   ],
   "source": [
    "data = np.load(\"data.npy\")\n",
    "\n",
    "with open(\"rec_sim.pickle\",\"rb\") as f:\n",
    "    rec_sim = pickle.load(f)\n",
    "\n",
    "# append recommondation cosine similarity\n",
    "data = data.tolist()\n",
    "for i in range(len(data)):\n",
    "    data[i].insert(-1,rec_sim[data[i][0]])\n",
    "data = np.array(data)\n",
    "\n",
    "train, test = train_test_split(data[:,1:], train_size=0.8)\n",
    "X_train, y_train = train[:,:-1], train[:,-1]\n",
    "X_test, y_test = test[:,:-1], test[:,-1]"
   ]
  },
  {
   "cell_type": "code",
   "execution_count": 23,
   "metadata": {},
   "outputs": [
    {
     "name": "stderr",
     "output_type": "stream",
     "text": [
      "[Parallel(n_jobs=-1)]: Done  34 tasks      | elapsed:    0.1s\n",
      "[Parallel(n_jobs=-1)]: Done 100 out of 100 | elapsed:    0.5s finished\n",
      "[Parallel(n_jobs=8)]: Done  34 tasks      | elapsed:    0.0s\n",
      "[Parallel(n_jobs=8)]: Done 100 out of 100 | elapsed:    0.1s finished\n"
     ]
    },
    {
     "name": "stdout",
     "output_type": "stream",
     "text": [
      "0.8495\n"
     ]
    }
   ],
   "source": [
    "rf = RandomForestClassifier(n_estimators=100, n_jobs=-1, verbose=1)\n",
    "rf.fit(X_train, y_train)\n",
    "print(rf.score(X_test, y_test))"
   ]
  },
  {
   "cell_type": "code",
   "execution_count": 24,
   "metadata": {},
   "outputs": [
    {
     "data": {
      "text/plain": [
       "array([0.09114564, 0.11971713, 0.07181809, 0.07023915, 0.00400258,\n",
       "       0.00374774, 0.00525714, 0.00686079, 0.01051177, 0.01824084,\n",
       "       0.00405471, 0.01595771, 0.01673061, 0.00507615, 0.08935831,\n",
       "       0.1336809 , 0.33360073])"
      ]
     },
     "execution_count": 24,
     "metadata": {},
     "output_type": "execute_result"
    }
   ],
   "source": [
    "rf.feature_importances_"
   ]
  },
  {
   "cell_type": "code",
   "execution_count": 11,
   "metadata": {},
   "outputs": [
    {
     "name": "stdout",
     "output_type": "stream",
     "text": [
      "0.7979274611398963\n"
     ]
    }
   ],
   "source": [
    "base = GradientBoostingClassifier()\n",
    "parameters = {\"learning_rate\":[0.05,0.1,0.15,0.2,0.3],\n",
    "              \"max_depth\":[2,3,5,7],\n",
    "              \"min_samples_leaf\":[1,3,5]}\n",
    "model = GridSearchCV(base, parameters, n_jobs=-1)\n",
    "model.fit(X_train, y_train)\n",
    "print(model.score(X_test, y_test))"
   ]
  },
  {
   "cell_type": "code",
   "execution_count": 26,
   "metadata": {},
   "outputs": [
    {
     "name": "stdout",
     "output_type": "stream",
     "text": [
      "0.85425\n"
     ]
    }
   ],
   "source": [
    "base = RandomForestClassifier(n_estimators=100)\n",
    "parameters = {\n",
    "    \"max_depth\":[9,11,13,15,17],\n",
    "    \"min_samples_leaf\":[1,3,5],\n",
    "    \"min_samples_split\":[2,4,6,8,10],\n",
    "}\n",
    "model = GridSearchCV(base, parameters, n_jobs=-1)\n",
    "model.fit(X_train, y_train)\n",
    "print(model.score(X_test, y_test))"
   ]
  },
  {
   "cell_type": "code",
   "execution_count": 27,
   "metadata": {},
   "outputs": [
    {
     "name": "stdout",
     "output_type": "stream",
     "text": [
      "0.9361779908862137\n"
     ]
    }
   ],
   "source": [
    "print(roc_auc_score(y_test, np.squeeze(model.predict_proba(X_test)[:,1])))"
   ]
  },
  {
   "cell_type": "code",
   "execution_count": 28,
   "metadata": {},
   "outputs": [
    {
     "data": {
      "text/plain": [
       "2107"
      ]
     },
     "execution_count": 28,
     "metadata": {},
     "output_type": "execute_result"
    }
   ],
   "source": [
    "(model.predict(X_test) == 0).sum()"
   ]
  },
  {
   "cell_type": "code",
   "execution_count": 29,
   "metadata": {},
   "outputs": [
    {
     "data": {
      "text/plain": [
       "RandomForestClassifier(bootstrap=True, class_weight=None, criterion='gini',\n",
       "            max_depth=13, max_features='auto', max_leaf_nodes=None,\n",
       "            min_impurity_decrease=0.0, min_impurity_split=None,\n",
       "            min_samples_leaf=1, min_samples_split=10,\n",
       "            min_weight_fraction_leaf=0.0, n_estimators=100, n_jobs=1,\n",
       "            oob_score=False, random_state=None, verbose=0,\n",
       "            warm_start=False)"
      ]
     },
     "execution_count": 29,
     "metadata": {},
     "output_type": "execute_result"
    }
   ],
   "source": [
    "model.best_estimator_"
   ]
  },
  {
   "cell_type": "code",
   "execution_count": 30,
   "metadata": {},
   "outputs": [
    {
     "data": {
      "text/plain": [
       "array([0.04496695, 0.05672548, 0.05955289, 0.06043752, 0.00462308,\n",
       "       0.01094158, 0.00830413, 0.00630216, 0.02138198, 0.01632411,\n",
       "       0.00330907, 0.0218792 , 0.02337896, 0.00679971, 0.12227007,\n",
       "       0.139612  , 0.39319113])"
      ]
     },
     "execution_count": 30,
     "metadata": {},
     "output_type": "execute_result"
    }
   ],
   "source": [
    "model.best_estimator_.feature_importances_"
   ]
  },
  {
   "cell_type": "markdown",
   "metadata": {},
   "source": [
    "## prepare submission"
   ]
  },
  {
   "cell_type": "code",
   "execution_count": 5,
   "metadata": {},
   "outputs": [
    {
     "name": "stdout",
     "output_type": "stream",
     "text": [
      "2000\n"
     ]
    }
   ],
   "source": [
    "with open(\"test-public.txt\",\"r\") as f:\n",
    "    test = f.readlines()\n",
    "\n",
    "X_t = []\n",
    "for l in test[1:]:\n",
    "    temp = list(map(int, l.split()))\n",
    "    X_t.append([temp[1], temp[2]])\n",
    "print(len(X_t))"
   ]
  },
  {
   "cell_type": "code",
   "execution_count": 6,
   "metadata": {},
   "outputs": [
    {
     "name": "stderr",
     "output_type": "stream",
     "text": [
      "100%|████████████████████████████████████████████████████████████████████████████| 2000/2000 [1:53:06<00:00,  3.39s/it]\n"
     ]
    }
   ],
   "source": [
    "X_t = np.array(feature_generator(X_t))"
   ]
  },
  {
   "cell_type": "code",
   "execution_count": 8,
   "metadata": {},
   "outputs": [],
   "source": [
    "X_t.dump(\"Xt.npy\")"
   ]
  },
  {
   "cell_type": "code",
   "execution_count": 18,
   "metadata": {},
   "outputs": [],
   "source": [
    "X_t = np.load(\"Xt_.npy\")\n",
    "\n",
    "with open(\"rec_sim_test.pickle\", \"rb\") as f:\n",
    "    rec_sim_test = pickle.load(f)"
   ]
  },
  {
   "cell_type": "code",
   "execution_count": 19,
   "metadata": {},
   "outputs": [
    {
     "name": "stdout",
     "output_type": "stream",
     "text": [
      "(2000, 17)\n"
     ]
    }
   ],
   "source": [
    "X_t = X_t[:, :-1].tolist()\n",
    "\n",
    "for i in range(len(X_t)):\n",
    "    X_t[i].append(rec_sim_test[i+1])\n",
    "\n",
    "X_t = np.array(X_t)\n",
    "print(X_t.shape)"
   ]
  },
  {
   "cell_type": "code",
   "execution_count": 31,
   "metadata": {},
   "outputs": [
    {
     "data": {
      "text/plain": [
       "1120"
      ]
     },
     "execution_count": 31,
     "metadata": {},
     "output_type": "execute_result"
    }
   ],
   "source": [
    "y_pred = model.predict(X_t)\n",
    "(y_pred == 0).sum()"
   ]
  },
  {
   "cell_type": "code",
   "execution_count": 32,
   "metadata": {},
   "outputs": [],
   "source": [
    "y_pred_prob = model.predict_proba(X_t)"
   ]
  },
  {
   "cell_type": "code",
   "execution_count": 33,
   "metadata": {},
   "outputs": [],
   "source": [
    "with open(\"pred_rf.csv\",\"w\") as f:\n",
    "    f.write(\"Id,Prediction\\n\")\n",
    "    for i in range(1,len(y_pred_prob)+1):\n",
    "        f.write(str(i) + \",\" + str(y_pred_prob[i-1][1]) + \"\\n\")"
   ]
  },
  {
   "cell_type": "markdown",
   "metadata": {},
   "source": [
    "## xgboost"
   ]
  },
  {
   "cell_type": "code",
   "execution_count": 34,
   "metadata": {},
   "outputs": [],
   "source": [
    "import xgboost"
   ]
  },
  {
   "cell_type": "code",
   "execution_count": 35,
   "metadata": {},
   "outputs": [
    {
     "name": "stdout",
     "output_type": "stream",
     "text": [
      "0.9388415129365356\n"
     ]
    }
   ],
   "source": [
    "xgb = xgboost.XGBClassifier()\n",
    "xgb.fit(X_train, y_train)\n",
    "print(roc_auc_score(y_test, np.squeeze(xgb.predict_proba(X_test)[:,1])))"
   ]
  },
  {
   "cell_type": "code",
   "execution_count": 36,
   "metadata": {},
   "outputs": [
    {
     "name": "stderr",
     "output_type": "stream",
     "text": [
      "C:\\Anaconda3\\lib\\site-packages\\sklearn\\preprocessing\\label.py:151: DeprecationWarning: The truth value of an empty array is ambiguous. Returning False, but in future this will result in an error. Use `array.size > 0` to check that an array is not empty.\n",
      "  if diff:\n"
     ]
    },
    {
     "data": {
      "text/plain": [
       "1101"
      ]
     },
     "execution_count": 36,
     "metadata": {},
     "output_type": "execute_result"
    }
   ],
   "source": [
    "y_pred = xgb.predict(X_t)\n",
    "(y_pred == 0).sum()"
   ]
  },
  {
   "cell_type": "code",
   "execution_count": 45,
   "metadata": {},
   "outputs": [],
   "source": [
    "y_pred_prob = xgb.predict_proba(X_t)\n",
    "\n",
    "with open(\"pred.csv\",\"w\") as f:\n",
    "    f.write(\"Id,Prediction\\n\")\n",
    "    for i in range(1,len(y_pred_prob)+1):\n",
    "        f.write(str(i) + \",\" + str(y_pred_prob[i-1][1]) + \"\\n\")"
   ]
  },
  {
   "cell_type": "code",
   "execution_count": 37,
   "metadata": {},
   "outputs": [
    {
     "name": "stdout",
     "output_type": "stream",
     "text": [
      "Fitting 3 folds for each of 384 candidates, totalling 1152 fits\n"
     ]
    },
    {
     "name": "stderr",
     "output_type": "stream",
     "text": [
      "[Parallel(n_jobs=-1)]: Done  34 tasks      | elapsed:   11.7s\n",
      "[Parallel(n_jobs=-1)]: Done 184 tasks      | elapsed:   55.6s\n",
      "[Parallel(n_jobs=-1)]: Done 434 tasks      | elapsed:  2.3min\n",
      "[Parallel(n_jobs=-1)]: Done 784 tasks      | elapsed:  4.2min\n",
      "[Parallel(n_jobs=-1)]: Done 1152 out of 1152 | elapsed:  6.6min finished\n"
     ]
    },
    {
     "name": "stdout",
     "output_type": "stream",
     "text": [
      "done!\n"
     ]
    }
   ],
   "source": [
    "params = {\"learning_rate\":[0.1,0.15,0.2,0.25],\n",
    "          \"max_depth\":[3,4,5,6,8,10],\n",
    "          \"subsample\":[0.6,0.75,0.85,1],\n",
    "          \"colsample_bylevel\":[0.6,0.75,0.85,1]}\n",
    "\n",
    "base = xgboost.XGBClassifier(n_estimators=100)\n",
    "xgb_ = GridSearchCV(base,params,n_jobs=-1,scoring='roc_auc',verbose=1)\n",
    "xgb_.fit(X_train, y_train)\n",
    "print(\"done!\")"
   ]
  },
  {
   "cell_type": "code",
   "execution_count": 38,
   "metadata": {},
   "outputs": [
    {
     "data": {
      "text/plain": [
       "XGBClassifier(base_score=0.5, booster='gbtree', colsample_bylevel=1,\n",
       "       colsample_bytree=1, gamma=0, learning_rate=0.2, max_delta_step=0,\n",
       "       max_depth=4, min_child_weight=1, missing=None, n_estimators=100,\n",
       "       n_jobs=1, nthread=None, objective='binary:logistic', random_state=0,\n",
       "       reg_alpha=0, reg_lambda=1, scale_pos_weight=1, seed=None,\n",
       "       silent=True, subsample=0.85)"
      ]
     },
     "execution_count": 38,
     "metadata": {},
     "output_type": "execute_result"
    }
   ],
   "source": [
    "xgb_.best_estimator_"
   ]
  },
  {
   "cell_type": "code",
   "execution_count": 116,
   "metadata": {},
   "outputs": [
    {
     "name": "stdout",
     "output_type": "stream",
     "text": [
      "{'f16': 237, 'f15': 164, 'f2': 227, 'f0': 138, 'f14': 95, 'f1': 179, 'f11': 29, 'f10': 36, 'f7': 42, 'f4': 9, 'f9': 13, 'f12': 15, 'f5': 5, 'f13': 5, 'f8': 7}\n",
      "{'recommendation': 237, 'propflow level3': 164, 'b in': 227, 'a in': 138, 'propflow level2': 95, 'a out': 179, 'reverse link': 29, 'adamic adar': 36, 'preferential attachment': 42, 'common neighbour': 9, 'lhn': 13, 'hub promoted': 15, 'jaccard': 5, 'hub depressed': 5, 'cosine': 7}\n"
     ]
    }
   ],
   "source": [
    "scores = xgb_.best_estimator_.get_booster().get_score()\n",
    "print(scores)\n",
    "\n",
    "fnames = ['a in','a out','b in','b out',\n",
    "          'common neighbour','jaccard','dice','preferential attachment','cosine',\n",
    "          'lhn','adamic adar','reverse link','hub promoted','hub depressed',\n",
    "          'propflow level2','propflow level3','recommendation']\n",
    "\n",
    "mapped = {fnames[int(k[1:])]: v for k, v in scores.items()}\n",
    "print(mapped)"
   ]
  },
  {
   "cell_type": "code",
   "execution_count": 120,
   "metadata": {},
   "outputs": [
    {
     "data": {
      "image/png": "[encoded data removed]",
      "text/plain": [
       "<Figure size 576x360 with 1 Axes>"
      ]
     },
     "metadata": {},
     "output_type": "display_data"
    }
   ],
   "source": [
    "plt.rcParams[\"figure.figsize\"] = (8,5)\n",
    "ax = xgboost.plot_importance(mapped,importance_type=\"weight\",ylabel=None,color=\"orange\")\n",
    "plt.show()"
   ]
  },
  {
   "cell_type": "code",
   "execution_count": 40,
   "metadata": {},
   "outputs": [
    {
     "name": "stderr",
     "output_type": "stream",
     "text": [
      "C:\\Anaconda3\\lib\\site-packages\\sklearn\\preprocessing\\label.py:151: DeprecationWarning: The truth value of an empty array is ambiguous. Returning False, but in future this will result in an error. Use `array.size > 0` to check that an array is not empty.\n",
      "  if diff:\n"
     ]
    },
    {
     "data": {
      "text/plain": [
       "2048"
      ]
     },
     "execution_count": 40,
     "metadata": {},
     "output_type": "execute_result"
    }
   ],
   "source": [
    "y_pred = xgb_.predict(X_test)\n",
    "(y_pred == 0).sum()"
   ]
  },
  {
   "cell_type": "code",
   "execution_count": 93,
   "metadata": {},
   "outputs": [
    {
     "name": "stdout",
     "output_type": "stream",
     "text": [
      "0.9428012890526544\n",
      "Confusion matrix, without normalization\n",
      "[[1735  237]\n",
      " [ 313 1715]]\n"
     ]
    },
    {
     "data": {
      "image/png": "[encoded data removed]",
      "text/plain": [
       "<Figure size 432x288 with 2 Axes>"
      ]
     },
     "metadata": {},
     "output_type": "display_data"
    }
   ],
   "source": [
    "print(roc_auc_score(y_test, np.squeeze(xgb_.predict_proba(X_test)[:,1])))\n",
    "cm = confusion_matrix(y_test, y_pred)\n",
    "plot_confusion_matrix(cm,cmap=plt.cm.GnBu)\n",
    "plt.show()"
   ]
  },
  {
   "cell_type": "code",
   "execution_count": 42,
   "metadata": {},
   "outputs": [],
   "source": [
    "y_pred_prob = xgb_.predict_proba(X_t)\n",
    "with open(\"pred_xg.csv\",\"w\") as f:\n",
    "    f.write(\"Id,Prediction\\n\")\n",
    "    for i in range(1,len(y_pred_prob)+1):\n",
    "        f.write(str(i) + \",\" + str(y_pred_prob[i-1][1]) + \"\\n\")"
   ]
  },
  {
   "cell_type": "code",
   "execution_count": null,
   "metadata": {},
   "outputs": [],
   "source": []
  }
 ],
 "metadata": {
  "kernelspec": {
   "display_name": "Python 3",
   "language": "python",
   "name": "python3"
  },
  "language_info": {
   "codemirror_mode": {
    "name": "ipython",
    "version": 3
   },
   "file_extension": ".py",
   "mimetype": "text/x-python",
   "name": "python",
   "nbconvert_exporter": "python",
   "pygments_lexer": "ipython3",
   "version": "3.6.5"
  }
 },
 "nbformat": 4,
 "nbformat_minor": 2
}

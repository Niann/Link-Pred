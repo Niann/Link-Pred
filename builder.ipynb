{
 "cells": [
  {
   "cell_type": "code",
   "execution_count": 59,
   "metadata": {},
   "outputs": [],
   "source": [
    "import random\n",
    "import pickle\n",
    "import sklearn\n",
    "import itertools\n",
    "import numpy as np\n",
    "import matplotlib.pyplot as plt\n",
    "\n",
    "from feature_extractor import *\n",
    "from tqdm import tqdm\n",
    "from sklearn.model_selection import train_test_split\n",
    "from sklearn.model_selection import GridSearchCV\n",
    "from sklearn.ensemble import RandomForestClassifier\n",
    "from sklearn.metrics import roc_auc_score\n",
    "from sklearn.metrics import confusion_matrix\n",
    "\n",
    "%matplotlib inline"
   ]
  },
  {
   "cell_type": "markdown",
   "metadata": {},
   "source": [
    "## Flag 1"
   ]
  },
  {
   "cell_type": "code",
   "execution_count": 3,
   "metadata": {},
   "outputs": [],
   "source": [
    "with open(\"matrix.pickle\",\"rb\") as f:\n",
    "    matrix = pickle.load(f)"
   ]
  },
  {
   "cell_type": "code",
   "execution_count": 57,
   "metadata": {},
   "outputs": [],
   "source": [
    "# adapted from sklearn official website\n",
    "# http://scikit-learn.org/stable/auto_examples/model_selection/plot_confusion_matrix.html#sphx-glr-auto-examples-model-selection-plot-confusion-matrix-py\n",
    "\n",
    "def plot_confusion_matrix(cm,\n",
    "                          normalize=False,\n",
    "                          title='Confusion matrix',\n",
    "                          classes=[\"True Edge\",\"Fake Edge\"],\n",
    "                          cmap=plt.cm.Blues):\n",
    "    \"\"\"\n",
    "    This function prints and plots the confusion matrix.\n",
    "    Normalization can be applied by setting `normalize=True`.\n",
    "    \"\"\"\n",
    "    if normalize:\n",
    "        cm = cm.astype('float') / cm.sum(axis=1)[:, np.newaxis]\n",
    "        print(\"Normalized confusion matrix\")\n",
    "    else:\n",
    "        print('Confusion matrix, without normalization')\n",
    "\n",
    "    print(cm)\n",
    "\n",
    "    plt.imshow(cm, interpolation='nearest', cmap=cmap)\n",
    "    plt.title(title)\n",
    "    plt.colorbar()\n",
    "    tick_marks = np.arange(len(classes))\n",
    "    plt.xticks(tick_marks, classes, rotation=45)\n",
    "    plt.yticks(tick_marks, classes)\n",
    "\n",
    "    fmt = '.2f' if normalize else 'd'\n",
    "    thresh = cm.max() / 2.\n",
    "    for i, j in itertools.product(range(cm.shape[0]), range(cm.shape[1])):\n",
    "        plt.text(j, i, format(cm[i, j], fmt),\n",
    "                 horizontalalignment=\"center\",\n",
    "                 color=\"white\" if cm[i, j] > thresh else \"black\")\n",
    "\n",
    "    plt.tight_layout()\n",
    "    plt.ylabel('True label')\n",
    "    plt.xlabel('Predicted label')"
   ]
  },
  {
   "cell_type": "code",
   "execution_count": 6,
   "metadata": {},
   "outputs": [],
   "source": [
    "def feature_generator(pairs):\n",
    "    \n",
    "    X = []\n",
    "    for datum in tqdm(pairs):\n",
    "        a, b = datum\n",
    "\n",
    "        # node feature\n",
    "        a_in = indegree(a, matrix)\n",
    "        a_out = outdegree(a, matrix)\n",
    "        b_in = indegree(b, matrix)\n",
    "        b_out = indegree(b, matrix)\n",
    "\n",
    "        # neighbouring feature\n",
    "        neighbour = common_neighbour(a, b, matrix)\n",
    "        jac = jaccard(neighbour, a, b, matrix)\n",
    "        dice = dice_idx(neighbour, a, b, matrix)\n",
    "        p_a = pref_attach(a, b, matrix)\n",
    "        cos = cosine_sim(neighbour, p_a)\n",
    "        lhn = LHN(neighbour, p_a)\n",
    "        adar = adamic_adar(a, b, matrix)\n",
    "        ra = resource_allocation(a, b, matrix)\n",
    "        reverse = reverse_link(a, b, matrix)\n",
    "        hp = hub_promoted(neighbour, a, b, matrix)\n",
    "        hd = hub_depressed(neighbour, a, b, matrix)\n",
    "\n",
    "        # path feature\n",
    "        #sim_r = sim_rank(a, b, matrix, 0)\n",
    "\n",
    "        flow1, flow2, flow3 = propflow(a, b, matrix)\n",
    "\n",
    "        X.append([a_in,a_out,b_in,b_out,neighbour,jac,dice,p_a,cos,lhn,adar,reverse,hp,hd,flow1,flow2,flow3])\n",
    "        \n",
    "    return X"
   ]
  },
  {
   "cell_type": "markdown",
   "metadata": {},
   "source": [
    "## Flag 2"
   ]
  },
  {
   "cell_type": "code",
   "execution_count": 35,
   "metadata": {},
   "outputs": [],
   "source": [
    "X_train = np.load(\"Xtrain\")#[:,:-3]\n",
    "X_test = np.load(\"Xtest\")#[:,:-3]\n",
    "y_train = np.load(\"ytrain\")\n",
    "y_test = np.load(\"ytest\")"
   ]
  },
  {
   "cell_type": "code",
   "execution_count": 36,
   "metadata": {},
   "outputs": [
    {
     "name": "stderr",
     "output_type": "stream",
     "text": [
      "[Parallel(n_jobs=-1)]: Done  34 tasks      | elapsed:    0.1s\n",
      "[Parallel(n_jobs=-1)]: Done 100 out of 100 | elapsed:    0.4s finished\n",
      "[Parallel(n_jobs=8)]: Done  34 tasks      | elapsed:    0.0s\n",
      "[Parallel(n_jobs=8)]: Done 100 out of 100 | elapsed:    0.0s finished\n"
     ]
    },
    {
     "name": "stdout",
     "output_type": "stream",
     "text": [
      "0.8139896373056995\n"
     ]
    }
   ],
   "source": [
    "rf = RandomForestClassifier(n_estimators=100, n_jobs=-1, verbose=1)\n",
    "rf.fit(X_train, y_train)\n",
    "print(rf.score(X_test, y_test))"
   ]
  },
  {
   "cell_type": "code",
   "execution_count": 37,
   "metadata": {},
   "outputs": [
    {
     "data": {
      "text/plain": [
       "array([0.10784228, 0.16855443, 0.07429869, 0.07283291, 0.00676313,\n",
       "       0.00806428, 0.00931545, 0.01057246, 0.0222128 , 0.01879054,\n",
       "       0.00379632, 0.00880711, 0.02789761, 0.00392057, 0.22426986,\n",
       "       0.23206156])"
      ]
     },
     "execution_count": 37,
     "metadata": {},
     "output_type": "execute_result"
    }
   ],
   "source": [
    "rf.feature_importances_"
   ]
  },
  {
   "cell_type": "code",
   "execution_count": 24,
   "metadata": {},
   "outputs": [
    {
     "name": "stdout",
     "output_type": "stream",
     "text": [
      "      Iter       Train Loss   Remaining Time \n",
      "         1           1.3567            1.09s\n",
      "         2           1.3325            1.27s\n",
      "         3           1.3124            1.19s\n",
      "         4           1.2948            1.22s\n",
      "         5           1.2804            1.19s\n",
      "         6           1.2681            1.13s\n",
      "         7           1.2573            1.09s\n",
      "         8           1.2476            1.06s\n",
      "         9           1.2392            1.04s\n",
      "        10           1.2310            1.02s\n",
      "        20           1.1848            0.73s\n",
      "        30           1.1646            0.59s\n",
      "        40           1.1500            0.46s\n",
      "        50           1.1403            0.39s\n",
      "        60           1.1328            0.31s\n",
      "        70           1.1255            0.22s\n",
      "        80           1.1198            0.15s\n",
      "        90           1.1139            0.07s\n",
      "       100           1.1093            0.00s\n",
      "0.673\n"
     ]
    }
   ],
   "source": [
    "from sklearn.ensemble import GradientBoostingClassifier\n",
    "\n",
    "gbdt = GradientBoostingClassifier(verbose=1)\n",
    "gbdt.fit(X_train, y_train)\n",
    "print(gbdt.score(X_test, y_test))"
   ]
  },
  {
   "cell_type": "code",
   "execution_count": 11,
   "metadata": {},
   "outputs": [
    {
     "name": "stdout",
     "output_type": "stream",
     "text": [
      "0.7979274611398963\n"
     ]
    }
   ],
   "source": [
    "base = GradientBoostingClassifier()\n",
    "parameters = {\"learning_rate\":[0.05,0.1,0.15,0.2,0.3],\n",
    "              \"max_depth\":[2,3,5,7],\n",
    "              \"min_samples_leaf\":[1,3,5]}\n",
    "model = GridSearchCV(base, parameters, n_jobs=-1)\n",
    "model.fit(X_train, y_train)\n",
    "print(model.score(X_test, y_test))"
   ]
  },
  {
   "cell_type": "code",
   "execution_count": 38,
   "metadata": {},
   "outputs": [
    {
     "name": "stdout",
     "output_type": "stream",
     "text": [
      "0.8134715025906736\n"
     ]
    }
   ],
   "source": [
    "base = RandomForestClassifier(n_estimators=100)\n",
    "parameters = {\n",
    "    \"max_depth\":[9,11,13,15,17],\n",
    "    \"min_samples_leaf\":[1,3,5],\n",
    "    \"min_samples_split\":[2,4,6,8,10],\n",
    "}\n",
    "model = GridSearchCV(base, parameters, n_jobs=-1)\n",
    "model.fit(X_train, y_train)\n",
    "print(model.score(X_test, y_test))"
   ]
  },
  {
   "cell_type": "code",
   "execution_count": 39,
   "metadata": {},
   "outputs": [
    {
     "name": "stdout",
     "output_type": "stream",
     "text": [
      "0.884317696355822\n"
     ]
    }
   ],
   "source": [
    "print(roc_auc_score(y_test, np.squeeze(model.predict_proba(X_test)[:,1])))"
   ]
  },
  {
   "cell_type": "code",
   "execution_count": 19,
   "metadata": {},
   "outputs": [
    {
     "data": {
      "text/plain": [
       "560"
      ]
     },
     "execution_count": 19,
     "metadata": {},
     "output_type": "execute_result"
    }
   ],
   "source": [
    "(model.predict(X_test) == 0).sum()"
   ]
  },
  {
   "cell_type": "code",
   "execution_count": 32,
   "metadata": {},
   "outputs": [
    {
     "data": {
      "text/plain": [
       "RandomForestClassifier(bootstrap=True, class_weight=None, criterion='gini',\n",
       "            max_depth=17, max_features='auto', max_leaf_nodes=None,\n",
       "            min_impurity_decrease=0.0, min_impurity_split=None,\n",
       "            min_samples_leaf=1, min_samples_split=10,\n",
       "            min_weight_fraction_leaf=0.0, n_estimators=100, n_jobs=1,\n",
       "            oob_score=False, random_state=None, verbose=0,\n",
       "            warm_start=False)"
      ]
     },
     "execution_count": 32,
     "metadata": {},
     "output_type": "execute_result"
    }
   ],
   "source": [
    "model.best_estimator_"
   ]
  },
  {
   "cell_type": "code",
   "execution_count": 26,
   "metadata": {},
   "outputs": [
    {
     "data": {
      "text/plain": [
       "array([0.08830526, 0.10472676, 0.10816217, 0.10717478, 0.0099624 ,\n",
       "       0.06074504, 0.03634302, 0.0333932 , 0.06272544, 0.07480472,\n",
       "       0.01487089, 0.05590122, 0.06415815, 0.03276334, 0.14596361])"
      ]
     },
     "execution_count": 26,
     "metadata": {},
     "output_type": "execute_result"
    }
   ],
   "source": [
    "model.best_estimator_.feature_importances_"
   ]
  },
  {
   "cell_type": "markdown",
   "metadata": {},
   "source": [
    "## prepare submission"
   ]
  },
  {
   "cell_type": "code",
   "execution_count": 1,
   "metadata": {},
   "outputs": [
    {
     "name": "stdout",
     "output_type": "stream",
     "text": [
      "2000\n"
     ]
    }
   ],
   "source": [
    "with open(\"test-public.txt\",\"r\") as f:\n",
    "    test = f.readlines()\n",
    "\n",
    "X_t = []\n",
    "for l in test[1:]:\n",
    "    temp = list(map(int, l.split()))\n",
    "    X_t.append([temp[1], temp[2]])\n",
    "print(len(X_t))"
   ]
  },
  {
   "cell_type": "code",
   "execution_count": 7,
   "metadata": {},
   "outputs": [
    {
     "name": "stderr",
     "output_type": "stream",
     "text": [
      "100%|████████████████████████████████████████████████████████████████████████████| 2000/2000 [1:37:21<00:00,  2.92s/it]\n"
     ]
    }
   ],
   "source": [
    "X_t = np.array(feature_generator(X_t))"
   ]
  },
  {
   "cell_type": "code",
   "execution_count": 8,
   "metadata": {},
   "outputs": [],
   "source": [
    "X_t.dump(\"Xt\")"
   ]
  },
  {
   "cell_type": "code",
   "execution_count": 40,
   "metadata": {},
   "outputs": [],
   "source": [
    "X_t = np.load(\"Xt\")"
   ]
  },
  {
   "cell_type": "code",
   "execution_count": 41,
   "metadata": {},
   "outputs": [
    {
     "data": {
      "text/plain": [
       "1167"
      ]
     },
     "execution_count": 41,
     "metadata": {},
     "output_type": "execute_result"
    }
   ],
   "source": [
    "y_pred = model.predict(X_t)\n",
    "(y_pred == 0).sum()"
   ]
  },
  {
   "cell_type": "code",
   "execution_count": 35,
   "metadata": {},
   "outputs": [],
   "source": [
    "y_pred_prob = model.predict_proba(X_t)"
   ]
  },
  {
   "cell_type": "code",
   "execution_count": 36,
   "metadata": {},
   "outputs": [],
   "source": [
    "with open(\"pred.csv\",\"w\") as f:\n",
    "    f.write(\"Id,Prediction\\n\")\n",
    "    for i in range(1,len(y_pred_prob)+1):\n",
    "        f.write(str(i) + \",\" + str(y_pred_prob[i-1][1]) + \"\\n\")"
   ]
  },
  {
   "cell_type": "markdown",
   "metadata": {},
   "source": [
    "## xgboost"
   ]
  },
  {
   "cell_type": "code",
   "execution_count": 42,
   "metadata": {},
   "outputs": [],
   "source": [
    "import xgboost"
   ]
  },
  {
   "cell_type": "code",
   "execution_count": 43,
   "metadata": {},
   "outputs": [
    {
     "name": "stdout",
     "output_type": "stream",
     "text": [
      "0.917348173604472\n"
     ]
    }
   ],
   "source": [
    "xgb = xgboost.XGBClassifier()\n",
    "xgb.fit(X_train, y_train)\n",
    "print(roc_auc_score(y_test, np.squeeze(xgb.predict_proba(X_test)[:,1])))"
   ]
  },
  {
   "cell_type": "code",
   "execution_count": 44,
   "metadata": {},
   "outputs": [
    {
     "name": "stderr",
     "output_type": "stream",
     "text": [
      "C:\\Anaconda3\\lib\\site-packages\\sklearn\\preprocessing\\label.py:151: DeprecationWarning: The truth value of an empty array is ambiguous. Returning False, but in future this will result in an error. Use `array.size > 0` to check that an array is not empty.\n",
      "  if diff:\n"
     ]
    },
    {
     "data": {
      "text/plain": [
       "1145"
      ]
     },
     "execution_count": 44,
     "metadata": {},
     "output_type": "execute_result"
    }
   ],
   "source": [
    "y_pred = xgb.predict(X_t)\n",
    "(y_pred == 0).sum()"
   ]
  },
  {
   "cell_type": "code",
   "execution_count": 45,
   "metadata": {},
   "outputs": [],
   "source": [
    "y_pred_prob = xgb.predict_proba(X_t)\n",
    "\n",
    "with open(\"pred.csv\",\"w\") as f:\n",
    "    f.write(\"Id,Prediction\\n\")\n",
    "    for i in range(1,len(y_pred_prob)+1):\n",
    "        f.write(str(i) + \",\" + str(y_pred_prob[i-1][1]) + \"\\n\")"
   ]
  },
  {
   "cell_type": "code",
   "execution_count": 50,
   "metadata": {},
   "outputs": [
    {
     "name": "stdout",
     "output_type": "stream",
     "text": [
      "Fitting 3 folds for each of 450 candidates, totalling 1350 fits\n"
     ]
    },
    {
     "name": "stderr",
     "output_type": "stream",
     "text": [
      "[Parallel(n_jobs=-1)]: Done  16 tasks      | elapsed:    8.3s\n",
      "[Parallel(n_jobs=-1)]: Done 112 tasks      | elapsed:   38.7s\n",
      "[Parallel(n_jobs=-1)]: Done 272 tasks      | elapsed:  1.6min\n",
      "[Parallel(n_jobs=-1)]: Done 496 tasks      | elapsed:  3.1min\n",
      "[Parallel(n_jobs=-1)]: Done 784 tasks      | elapsed:  6.2min\n",
      "[Parallel(n_jobs=-1)]: Done 1136 tasks      | elapsed: 12.0min\n",
      "[Parallel(n_jobs=-1)]: Done 1350 out of 1350 | elapsed: 15.9min finished\n"
     ]
    },
    {
     "data": {
      "text/plain": [
       "GridSearchCV(cv=None, error_score='raise',\n",
       "       estimator=XGBClassifier(base_score=0.5, booster='gbtree', colsample_bylevel=1,\n",
       "       colsample_bytree=1, gamma=0, learning_rate=0.1, max_delta_step=0,\n",
       "       max_depth=3, min_child_weight=1, missing=None, n_estimators=100,\n",
       "       n_jobs=1, nthread=None, objective='binary:logistic', random_state=0,\n",
       "       reg_alpha=0, reg_lambda=1, scale_pos_weight=1, seed=None,\n",
       "       silent=True, subsample=1),\n",
       "       fit_params=None, iid=True, n_jobs=-1,\n",
       "       param_grid={'learning_rate': [0.03, 0.1, 0.15, 0.2, 0.3], 'max_depth': [4, 6, 7, 8, 10], 'subsample': [0.5, 0.75, 1], 'colsample_bylevel': [0.5, 0.75, 1], 'booster': ['gbtree', 'dart']},\n",
       "       pre_dispatch='2*n_jobs', refit=True, return_train_score='warn',\n",
       "       scoring='roc_auc', verbose=3)"
      ]
     },
     "execution_count": 50,
     "metadata": {},
     "output_type": "execute_result"
    }
   ],
   "source": [
    "params = {\"learning_rate\":[0.03,0.1,0.15,0.2,0.3],\n",
    "          \"max_depth\":[4,6,7,8,10],\n",
    "          \"subsample\":[0.5,0.75,1],\n",
    "          \"colsample_bylevel\":[0.5,0.75,1],\n",
    "          \"booster\":[\"gbtree\",\"dart\"]}\n",
    "\n",
    "base = xgboost.XGBClassifier(n_estimators=100)\n",
    "xgb_ = GridSearchCV(base,params,n_jobs=-1,scoring='roc_auc',verbose=2)\n",
    "xgb_.fit(X_train, y_train)\n",
    "print(\"done!\")"
   ]
  },
  {
   "cell_type": "code",
   "execution_count": 52,
   "metadata": {},
   "outputs": [
    {
     "data": {
      "text/plain": [
       "XGBClassifier(base_score=0.5, booster='gbtree', colsample_bylevel=0.75,\n",
       "       colsample_bytree=1, gamma=0, learning_rate=0.15, max_delta_step=0,\n",
       "       max_depth=4, min_child_weight=1, missing=None, n_estimators=100,\n",
       "       n_jobs=1, nthread=None, objective='binary:logistic', random_state=0,\n",
       "       reg_alpha=0, reg_lambda=1, scale_pos_weight=1, seed=None,\n",
       "       silent=True, subsample=0.75)"
      ]
     },
     "execution_count": 52,
     "metadata": {},
     "output_type": "execute_result"
    }
   ],
   "source": [
    "xgb_.best_estimator_"
   ]
  },
  {
   "cell_type": "code",
   "execution_count": 55,
   "metadata": {},
   "outputs": [
    {
     "name": "stderr",
     "output_type": "stream",
     "text": [
      "C:\\Anaconda3\\lib\\site-packages\\sklearn\\preprocessing\\label.py:151: DeprecationWarning: The truth value of an empty array is ambiguous. Returning False, but in future this will result in an error. Use `array.size > 0` to check that an array is not empty.\n",
      "  if diff:\n"
     ]
    },
    {
     "data": {
      "text/plain": [
       "1076"
      ]
     },
     "execution_count": 55,
     "metadata": {},
     "output_type": "execute_result"
    }
   ],
   "source": [
    "y_pred = xgb_.predict(X_test)\n",
    "(y_pred == 0).sum()"
   ]
  },
  {
   "cell_type": "code",
   "execution_count": 61,
   "metadata": {},
   "outputs": [
    {
     "name": "stdout",
     "output_type": "stream",
     "text": [
      "0.921358082909141\n",
      "Confusion matrix, without normalization\n",
      "[[900 114]\n",
      " [176 740]]\n"
     ]
    },
    {
     "data": {
      "image/png": "[encoded data removed]",
      "text/plain": [
       "<Figure size 432x288 with 2 Axes>"
      ]
     },
     "metadata": {},
     "output_type": "display_data"
    }
   ],
   "source": [
    "print(roc_auc_score(y_test, np.squeeze(xgb_.predict_proba(X_test)[:,1])))\n",
    "cm = confusion_matrix(y_test, y_pred)\n",
    "plot_confusion_matrix(cm)\n",
    "plt.show()"
   ]
  },
  {
   "cell_type": "code",
   "execution_count": 49,
   "metadata": {},
   "outputs": [],
   "source": [
    "y_pred_prob = xgb_.predict_proba(X_t)\n",
    "with open(\"pred.csv\",\"w\") as f:\n",
    "    f.write(\"Id,Prediction\\n\")\n",
    "    for i in range(1,len(y_pred_prob)+1):\n",
    "        f.write(str(i) + \",\" + str(y_pred_prob[i-1][1]) + \"\\n\")"
   ]
  },
  {
   "cell_type": "code",
   "execution_count": null,
   "metadata": {},
   "outputs": [],
   "source": []
  }
 ],
 "metadata": {
  "kernelspec": {
   "display_name": "Python 3",
   "language": "python",
   "name": "python3"
  },
  "language_info": {
   "codemirror_mode": {
    "name": "ipython",
    "version": 3
   },
   "file_extension": ".py",
   "mimetype": "text/x-python",
   "name": "python",
   "nbconvert_exporter": "python",
   "pygments_lexer": "ipython3",
   "version": "3.6.5"
  }
 },
 "nbformat": 4,
 "nbformat_minor": 2
}

{
 "cells": [
  {
   "cell_type": "code",
   "execution_count": 1,
   "metadata": {},
   "outputs": [],
   "source": [
    "import pickle\n",
    "import random\n",
    "import matplotlib.pyplot as plt\n",
    "import numpy as np\n",
    "\n",
    "from tqdm import tqdm\n",
    "\n",
    "%matplotlib inline"
   ]
  },
  {
   "cell_type": "markdown",
   "metadata": {},
   "source": [
    "### define parameters"
   ]
  },
  {
   "cell_type": "code",
   "execution_count": 2,
   "metadata": {},
   "outputs": [],
   "source": [
    "NUM_SAMPLE = 20000\n",
    "\n",
    "THRESHOLD = 15\n",
    "MAX_EDGE = 2000"
   ]
  },
  {
   "cell_type": "markdown",
   "metadata": {},
   "source": [
    "### read data"
   ]
  },
  {
   "cell_type": "code",
   "execution_count": 3,
   "metadata": {},
   "outputs": [
    {
     "name": "stderr",
     "output_type": "stream",
     "text": [
      "100%|██████████████████████████████████████████████████████████████████████████| 20000/20000 [00:08<00:00, 2289.24it/s]\n"
     ]
    }
   ],
   "source": [
    "with open(\"train.txt\",\"r\") as f:\n",
    "    lines = f.readlines() \n",
    "\n",
    "matrix = {}\n",
    "for line in tqdm(lines):\n",
    "    temp = list(map(int, line.split()))\n",
    "    if len(temp[1:]) > 0:\n",
    "        matrix[temp[0]] = set(temp[1:])"
   ]
  },
  {
   "cell_type": "code",
   "execution_count": 4,
   "metadata": {},
   "outputs": [
    {
     "data": {
      "text/plain": [
       "'\\nwith open(\"error.txt\",\"r\") as f:\\n    test = f.readlines()\\n\\ntest_s = set()\\ntest_d = set()\\nfor l in test:\\n    temp = list(map(int, l.split()))\\n    test_s.add(temp[0]) ; test_d.add(temp[1])\\n'"
      ]
     },
     "execution_count": 4,
     "metadata": {},
     "output_type": "execute_result"
    }
   ],
   "source": [
    "\"\"\"\n",
    "with open(\"error.txt\",\"r\") as f:\n",
    "    test = f.readlines()\n",
    "\n",
    "test_s = set()\n",
    "test_d = set()\n",
    "for l in test:\n",
    "    temp = list(map(int, l.split()))\n",
    "    test_s.add(temp[0]) ; test_d.add(temp[1])\n",
    "\"\"\""
   ]
  },
  {
   "cell_type": "code",
   "execution_count": 5,
   "metadata": {},
   "outputs": [],
   "source": [
    "with open(\"test-public.txt\",\"r\") as f:\n",
    "    test = f.readlines()\n",
    "\n",
    "test_s = set()\n",
    "test_d = set()\n",
    "for l in test[1:]:\n",
    "    temp = list(map(int, l.split()))\n",
    "    test_s.add(temp[1]) ; test_d.add(temp[2])"
   ]
  },
  {
   "cell_type": "code",
   "execution_count": 6,
   "metadata": {},
   "outputs": [
    {
     "name": "stdout",
     "output_type": "stream",
     "text": [
      "2000 1978 19570\n"
     ]
    }
   ],
   "source": [
    "print(len(test_s), len(test_d), len(matrix))"
   ]
  },
  {
   "cell_type": "code",
   "execution_count": 7,
   "metadata": {},
   "outputs": [
    {
     "name": "stderr",
     "output_type": "stream",
     "text": [
      "100%|██████████████████████████████████████████████████████████████████████████| 19570/19570 [00:14<00:00, 1368.66it/s]\n"
     ]
    },
    {
     "name": "stdout",
     "output_type": "stream",
     "text": [
      "4867136\n"
     ]
    }
   ],
   "source": [
    "all_v = {}\n",
    "for v in tqdm(matrix):\n",
    "    all_v[v] = all_v.get(v, 0) + 1\n",
    "    for d in matrix[v]:\n",
    "        all_v[d] = all_v.get(d, 0) + 1\n",
    "print(len(all_v))"
   ]
  },
  {
   "cell_type": "markdown",
   "metadata": {},
   "source": [
    "### analyze distribution"
   ]
  },
  {
   "cell_type": "code",
   "execution_count": 8,
   "metadata": {},
   "outputs": [
    {
     "name": "stdout",
     "output_type": "stream",
     "text": [
      "1978\n"
     ]
    },
    {
     "data": {
      "image/png": "[encoded data removed]",
      "text/plain": [
       "<Figure size 432x288 with 1 Axes>"
      ]
     },
     "metadata": {},
     "output_type": "display_data"
    }
   ],
   "source": [
    "# indegree for sinks in test file\n",
    "freq = []\n",
    "for d in test_d:\n",
    "    freq.append(all_v[d])\n",
    "freq.sort()\n",
    "print(len(freq))\n",
    "plt.hist(freq)\n",
    "plt.show()"
   ]
  },
  {
   "cell_type": "code",
   "execution_count": 9,
   "metadata": {},
   "outputs": [],
   "source": [
    "all_freq = list(all_v.values())"
   ]
  },
  {
   "cell_type": "code",
   "execution_count": 10,
   "metadata": {},
   "outputs": [
    {
     "name": "stdout",
     "output_type": "stream",
     "text": [
      "0.8762763152704177\n"
     ]
    }
   ],
   "source": [
    "print(len([n for n in all_freq if n >= 1 and n <= 5])/len(all_freq))"
   ]
  },
  {
   "cell_type": "code",
   "execution_count": 11,
   "metadata": {},
   "outputs": [
    {
     "name": "stdout",
     "output_type": "stream",
     "text": [
      "0.10212335692618807\n"
     ]
    }
   ],
   "source": [
    "print(len([n for n in freq if 2 < n <= 6])/len(freq))"
   ]
  },
  {
   "cell_type": "code",
   "execution_count": 12,
   "metadata": {},
   "outputs": [],
   "source": [
    "\"\"\"\n",
    "sink distribution estimation\n",
    "\n",
    "start         end    pmf    cdf\n",
    "        x  <= 2   -- 0.15   0.15  \n",
    "2    <  x  <= 6   -- 0.1    0.25  \n",
    "6    <  x  <= 13  -- 0.1    0.35  \n",
    "13   <  x  <= 25  -- 0.1    0.45  \n",
    "25   <  x  <= 45  -- 0.1    0.55\n",
    "45   <  x  <= 70  -- 0.1    0.65\n",
    "70   <  x  <= 120 -- 0.1    0.75\n",
    "120  <  x  <= 240 -- 0.1    0.85\n",
    "240  <  x         -- 0.15   1  \n",
    "\"\"\"\n",
    "pmf = np.array([0.15] + [0.1] * 7 + [0.15])"
   ]
  },
  {
   "cell_type": "markdown",
   "metadata": {},
   "source": [
    "### build training set"
   ]
  },
  {
   "cell_type": "code",
   "execution_count": 13,
   "metadata": {},
   "outputs": [],
   "source": [
    "# divide vertices with indegrees\n",
    "\n",
    "distri2v = {n:[] for n in range(9)}\n",
    "v2distri = {}\n",
    "for v in all_v:\n",
    "    indegree = all_v[v]\n",
    "    if indegree <= 2:\n",
    "        distri2v[0].append(v)\n",
    "        v2distri[v] = 0\n",
    "    elif indegree <= 6:\n",
    "        distri2v[1].append(v)\n",
    "        v2distri[v] = 1\n",
    "    elif indegree <= 13:\n",
    "        distri2v[2].append(v)\n",
    "        v2distri[v] = 2\n",
    "    elif indegree <= 25:\n",
    "        distri2v[3].append(v)\n",
    "        v2distri[v] = 3\n",
    "    elif indegree <= 45:\n",
    "        distri2v[4].append(v)\n",
    "        v2distri[v] = 4\n",
    "    elif indegree <= 70:\n",
    "        distri2v[5].append(v)\n",
    "        v2distri[v] = 5\n",
    "    elif indegree <= 120:\n",
    "        distri2v[6].append(v)\n",
    "        v2distri[v] = 6\n",
    "    elif indegree <= 240:\n",
    "        distri2v[7].append(v)\n",
    "        v2distri[v] = 7\n",
    "    else:\n",
    "        distri2v[8].append(v)\n",
    "        v2distri[v] = 8"
   ]
  },
  {
   "cell_type": "code",
   "execution_count": 14,
   "metadata": {},
   "outputs": [
    {
     "name": "stdout",
     "output_type": "stream",
     "text": [
      "[3000. 2000. 2000. 2000. 2000. 2000. 2000. 2000. 3000.]\n",
      "[1402. 1074. 1018. 1066. 1046.  803.  866.  944. 1781.]\n"
     ]
    }
   ],
   "source": [
    "# generate training data\n",
    "# first sample real edges and record distribution\n",
    "\n",
    "source = list(matrix.keys())\n",
    "training_vertex = set()\n",
    "\n",
    "data = []\n",
    "\n",
    "distri = np.zeros(9)\n",
    "max_distri = pmf * NUM_SAMPLE\n",
    "\n",
    "while len(data) < NUM_SAMPLE//2:\n",
    "    src = random.choice(source)\n",
    "    #src = random.sample(test_s, 1)[0]\n",
    "    dest = random.sample(matrix[src], 1)[0]\n",
    "    dest_distri = v2distri[dest]\n",
    "    if distri[dest_distri] < max_distri[dest_distri] and src != dest:\n",
    "        distri[dest_distri] += 1\n",
    "        data.append([src, dest, 1])\n",
    "        training_vertex.add(src)\n",
    "        training_vertex.add(dest)\n",
    "\n",
    "print(max_distri)\n",
    "print(distri)"
   ]
  },
  {
   "cell_type": "code",
   "execution_count": 15,
   "metadata": {},
   "outputs": [
    {
     "name": "stdout",
     "output_type": "stream",
     "text": [
      "[3000. 2000. 2000. 2000. 2000. 2000. 2000. 2000. 3000.]\n",
      "[3000. 2000. 2000. 2000. 2000. 2000. 2000. 2000. 3000.]\n"
     ]
    }
   ],
   "source": [
    "# sample fake edges and match test distribution\n",
    "\n",
    "for i in range(len(pmf)):\n",
    "    while distri[i] < max_distri[i]:\n",
    "        src = random.choice(source)\n",
    "        #src = random.sample(test_s, 1)[0]\n",
    "        dest = random.choice(distri2v[i])\n",
    "        if dest != src and dest not in matrix[src]:\n",
    "            data.append([src, dest, 0])\n",
    "            training_vertex.add(src)\n",
    "            training_vertex.add(dest)\n",
    "            distri[i] += 1\n",
    "random.shuffle(data)\n",
    "\n",
    "print(max_distri)\n",
    "print(distri)"
   ]
  },
  {
   "cell_type": "code",
   "execution_count": 16,
   "metadata": {},
   "outputs": [],
   "source": [
    "with open(\"raw.pickle\",\"wb\") as f:\n",
    "    pickle.dump(data, f)"
   ]
  },
  {
   "cell_type": "markdown",
   "metadata": {},
   "source": [
    "### no truncate"
   ]
  },
  {
   "cell_type": "code",
   "execution_count": 17,
   "metadata": {},
   "outputs": [],
   "source": [
    "with open(\"matrix.pickle\",\"wb\") as f:\n",
    "    pickle.dump(matrix, f)"
   ]
  },
  {
   "cell_type": "markdown",
   "metadata": {},
   "source": [
    "### truncate graph"
   ]
  },
  {
   "cell_type": "code",
   "execution_count": null,
   "metadata": {},
   "outputs": [],
   "source": [
    "remain = set()\n",
    "\n",
    "for v in all_v:\n",
    "    if all_v[v] >= THRESHOLD:\n",
    "        remain.add(v)\n",
    "\n",
    "remain = set(remain).union(set(matrix.keys())).union(test_s).union(test_d)#.union(training_vertex)\n",
    "print(len(remain))"
   ]
  },
  {
   "cell_type": "code",
   "execution_count": null,
   "metadata": {},
   "outputs": [],
   "source": [
    "truncated = {}\n",
    "\n",
    "for v in tqdm(matrix):\n",
    "    temp = set()\n",
    "    for dest in matrix[v]:\n",
    "        if dest in remain:\n",
    "            temp.add(dest)\n",
    "    if len(temp) != 0:\n",
    "        truncated[v] = temp\n",
    "    else:\n",
    "        if v in test_s:\n",
    "            truncated[v] = matrix[v]"
   ]
  },
  {
   "cell_type": "code",
   "execution_count": null,
   "metadata": {},
   "outputs": [],
   "source": [
    "i, j = 0, 0\n",
    "for v in truncated:\n",
    "    if len(truncated[v]) == 0:\n",
    "        i += 1\n",
    "        if v in test_s:\n",
    "            j += 1\n",
    "print(i, j)"
   ]
  },
  {
   "cell_type": "code",
   "execution_count": null,
   "metadata": {},
   "outputs": [],
   "source": [
    "def count_edge(): \n",
    "    l = []\n",
    "    for v in truncated:\n",
    "        l.append(len(truncated[v]))\n",
    "    print(\"total edge number: {}\".format(sum(l)))\n",
    "    return l"
   ]
  },
  {
   "cell_type": "code",
   "execution_count": null,
   "metadata": {},
   "outputs": [],
   "source": [
    "l = count_edge()\n",
    "plt.hist(l)\n",
    "plt.show()"
   ]
  },
  {
   "cell_type": "code",
   "execution_count": null,
   "metadata": {},
   "outputs": [],
   "source": [
    "for v in tqdm(truncated):\n",
    "    destination = list(truncated[v])\n",
    "    if len(destination) > MAX_EDGE:\n",
    "        cut_edge = sorted(destination, key=lambda x: all_v[x], reverse=True)[:MAX_EDGE]\n",
    "        truncated[v] = set(cut_edge)\n",
    "l = count_edge()"
   ]
  },
  {
   "cell_type": "code",
   "execution_count": null,
   "metadata": {},
   "outputs": [],
   "source": [
    "with open(\"matrix.pickle\",\"wb\") as f:\n",
    "    pickle.dump(truncated, f)"
   ]
  },
  {
   "cell_type": "code",
   "execution_count": null,
   "metadata": {},
   "outputs": [],
   "source": [
    "data = []\n",
    "source = list(truncated.keys())\n",
    "remain_list = list(remain)\n",
    "\n",
    "while len(data) < NUM_SAMPLE//2:\n",
    "    src = random.choice(source)\n",
    "    dest = random.sample(truncated[src], 1)[0]\n",
    "    if src != dest:\n",
    "        data.append([src, dest, 1])\n",
    "print(\"half done\")\n",
    "\n",
    "while len(data) < NUM_SAMPLE:\n",
    "    src = random.choice(source)\n",
    "    dest = random.choice(remain_list)\n",
    "    while dest == src or dest in truncated[src]:\n",
    "        dest = random.choice(remain_list)\n",
    "    data.append([src, dest, 0])\n",
    "\n",
    "with open(\"raw.pickle\",\"wb\") as f:\n",
    "    pickle.dump(data, f)"
   ]
  },
  {
   "cell_type": "code",
   "execution_count": null,
   "metadata": {},
   "outputs": [],
   "source": []
  }
 ],
 "metadata": {
  "kernelspec": {
   "display_name": "Python 3",
   "language": "python",
   "name": "python3"
  },
  "language_info": {
   "codemirror_mode": {
    "name": "ipython",
    "version": 3
   },
   "file_extension": ".py",
   "mimetype": "text/x-python",
   "name": "python",
   "nbconvert_exporter": "python",
   "pygments_lexer": "ipython3",
   "version": "3.6.6"
  }
 },
 "nbformat": 4,
 "nbformat_minor": 2
}

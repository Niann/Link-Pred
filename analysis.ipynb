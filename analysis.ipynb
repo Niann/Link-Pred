{
 "cells": [
  {
   "cell_type": "code",
   "execution_count": 139,
   "metadata": {},
   "outputs": [],
   "source": [
    "import pickle\n",
    "import tqdm\n",
    "import random\n",
    "\n",
    "import matplotlib.pyplot as plt\n",
    "import numpy as np\n",
    "\n",
    "%matplotlib inline"
   ]
  },
  {
   "cell_type": "code",
   "execution_count": 81,
   "metadata": {},
   "outputs": [],
   "source": [
    "with open(\"matrix.pickle\",\"rb\") as f:\n",
    "    matrix = pickle.load(f)\n",
    "\n",
    "with open(\"test-public.txt\",\"r\") as f:\n",
    "    test = f.readlines()\n",
    "\n",
    "test_s = set()\n",
    "test_d = set()\n",
    "for l in test[1:]:\n",
    "    temp = list(map(int, l.split()))\n",
    "    test_s.add(temp[1]) ; test_d.add(temp[2])"
   ]
  },
  {
   "cell_type": "code",
   "execution_count": 82,
   "metadata": {},
   "outputs": [
    {
     "name": "stdout",
     "output_type": "stream",
     "text": [
      "2000 1978\n"
     ]
    }
   ],
   "source": [
    "print(len(test_s), len(test_d))"
   ]
  },
  {
   "cell_type": "code",
   "execution_count": 4,
   "metadata": {},
   "outputs": [
    {
     "name": "stdout",
     "output_type": "stream",
     "text": [
      "4867136\n"
     ]
    }
   ],
   "source": [
    "all_v = {}\n",
    "for v in matrix:\n",
    "    all_v[v] = all_v.get(v, 0) + 1\n",
    "    for d in matrix[v]:\n",
    "        all_v[d] = all_v.get(d, 0) + 1\n",
    "print(len(all_v))"
   ]
  },
  {
   "cell_type": "code",
   "execution_count": 87,
   "metadata": {},
   "outputs": [
    {
     "name": "stdout",
     "output_type": "stream",
     "text": [
      "1978\n"
     ]
    },
    {
     "data": {
      "image/png": "[encoded data removed]",
      "text/plain": [
       "<Figure size 432x288 with 1 Axes>"
      ]
     },
     "metadata": {},
     "output_type": "display_data"
    },
    {
     "name": "stdout",
     "output_type": "stream",
     "text": [
      "1\n",
      "2\n",
      "3\n",
      "4\n",
      "7\n",
      "10\n",
      "14\n",
      "19\n",
      "25\n",
      "33\n",
      "43\n",
      "53\n",
      "70\n",
      "92\n",
      "119\n",
      "161\n",
      "228\n",
      "356\n",
      "688\n"
     ]
    }
   ],
   "source": [
    "# indegree for sinks in test file\n",
    "freq = []\n",
    "for d in test_d:\n",
    "    freq.append(all_v[d])\n",
    "freq.sort()\n",
    "print(len(freq))\n",
    "plt.hist(freq)\n",
    "plt.show()\n",
    "for i in range(1, 20):\n",
    "    print(freq[i*100-1])"
   ]
  },
  {
   "cell_type": "code",
   "execution_count": 90,
   "metadata": {},
   "outputs": [],
   "source": [
    "all_freq = [n for n in list(all_v.values()) if n >= 2 and n <= 5000]"
   ]
  },
  {
   "cell_type": "code",
   "execution_count": 91,
   "metadata": {},
   "outputs": [
    {
     "name": "stdout",
     "output_type": "stream",
     "text": [
      "0.6965739226303309\n"
     ]
    }
   ],
   "source": [
    "print(len([n for n in all_freq if n >= 1 and n <= 5])/len(all_freq))"
   ]
  },
  {
   "cell_type": "code",
   "execution_count": 126,
   "metadata": {},
   "outputs": [
    {
     "name": "stdout",
     "output_type": "stream",
     "text": [
      "0.13346814964610718\n"
     ]
    }
   ],
   "source": [
    "print(len([n for n in freq if 240 < n])/len(freq))"
   ]
  },
  {
   "cell_type": "code",
   "execution_count": null,
   "metadata": {},
   "outputs": [],
   "source": [
    "\"\"\"\n",
    "sink distribution estimation\n",
    "\n",
    "start         end    pmf    cdf\n",
    "        x  <= 2   -- 0.15   0.15  \n",
    "2    <  x  <= 6   -- 0.1    0.25  \n",
    "6    <  x  <= 13  -- 0.1    0.35  \n",
    "13   <  x  <= 25  -- 0.1    0.45  \n",
    "25   <  x  <= 45  -- 0.1    0.55\n",
    "45   <  x  <= 70  -- 0.1    0.65\n",
    "70   <  x  <= 120 -- 0.1    0.75\n",
    "120  <  x  <= 240 -- 0.1    0.85\n",
    "240  <  x         -- 0.15   1  \n",
    "\"\"\""
   ]
  },
  {
   "cell_type": "code",
   "execution_count": 138,
   "metadata": {},
   "outputs": [],
   "source": [
    "# divide vertices with indegrees\n",
    "\n",
    "distri2v = {n:[] for n in range(9)}\n",
    "v2distri = {}\n",
    "for v in all_v:\n",
    "    indegree = all_v[v]\n",
    "    if indegree <= 2:\n",
    "        distri2v[0].append(v)\n",
    "        v2distri[v] = 0\n",
    "    elif indegree <= 6:\n",
    "        distri2v[1].append(v)\n",
    "        v2distri[v] = 1\n",
    "    elif indegree <= 13:\n",
    "        distri2v[2].append(v)\n",
    "        v2distri[v] = 2\n",
    "    elif indegree <= 25:\n",
    "        distri2v[3].append(v)\n",
    "        v2distri[v] = 3\n",
    "    elif indegree <= 45:\n",
    "        distri2v[4].append(v)\n",
    "        v2distri[v] = 4\n",
    "    elif indegree <= 70:\n",
    "        distri2v[5].append(v)\n",
    "        v2distri[v] = 5\n",
    "    elif indegree <= 120:\n",
    "        distri2v[6].append(v)\n",
    "        v2distri[v] = 6\n",
    "    elif indegree <= 240:\n",
    "        distri2v[7].append(v)\n",
    "        v2distri[v] = 7\n",
    "    else:\n",
    "        distri2v[8].append(v)\n",
    "        v2distri[v] = 8"
   ]
  },
  {
   "cell_type": "code",
   "execution_count": 144,
   "metadata": {},
   "outputs": [],
   "source": [
    "# generate training data\n",
    "# first sample real edges and record distribution\n",
    "\n",
    "NUM_SAMPLE = 30000\n",
    "source = list(matrix.keys())\n",
    "\n",
    "data = []\n",
    "\n",
    "distri = np.zeros(9)\n",
    "pmf = np.array([0.15] + [0.1] * 7 + [0.15])\n",
    "max_distri = pmf * NUM_SAMPLE\n",
    "\n",
    "while len(data) < NUM_SAMPLE//2:\n",
    "    src = random.choice(source)\n",
    "    dest = random.sample(matrix[src], 1)[0]\n",
    "    dest_distri = v2distri[dest]\n",
    "    if distri[dest_distri] < max_distri[dest_distri]:\n",
    "        distri[dest_distri] += 1\n",
    "        data.append([src, dest, 1])"
   ]
  },
  {
   "cell_type": "code",
   "execution_count": 145,
   "metadata": {},
   "outputs": [
    {
     "name": "stdout",
     "output_type": "stream",
     "text": [
      "[4500. 3000. 3000. 3000. 3000. 3000. 3000. 3000. 4500.]\n",
      "[2098. 1646. 1482. 1537. 1462. 1209. 1384. 1448. 2734.]\n"
     ]
    }
   ],
   "source": [
    "print(max_distri)\n",
    "print(distri)"
   ]
  },
  {
   "cell_type": "code",
   "execution_count": 148,
   "metadata": {},
   "outputs": [],
   "source": [
    "# sample fake edges and match test distribution\n",
    "\n",
    "for i in range(len(pmf)):\n",
    "    while distri[i] < max_distri[i]:\n",
    "        src = random.choice(source)\n",
    "        dest = random.choice(distri2v[i])\n",
    "        if dest != src and dest not in matrix[src]:\n",
    "            data.append([src, dest, 0])\n",
    "            distri[i] += 1\n",
    "random.shuffle(data)"
   ]
  },
  {
   "cell_type": "code",
   "execution_count": 149,
   "metadata": {},
   "outputs": [
    {
     "name": "stdout",
     "output_type": "stream",
     "text": [
      "[4500. 3000. 3000. 3000. 3000. 3000. 3000. 3000. 4500.]\n",
      "[4500. 3000. 3000. 3000. 3000. 3000. 3000. 3000. 4500.]\n"
     ]
    }
   ],
   "source": [
    "print(max_distri)\n",
    "print(distri)"
   ]
  },
  {
   "cell_type": "code",
   "execution_count": 153,
   "metadata": {},
   "outputs": [],
   "source": [
    "with open(\"raw.pickle\",\"wb\") as f:\n",
    "    pickle.dump(data, f)"
   ]
  },
  {
   "cell_type": "code",
   "execution_count": null,
   "metadata": {},
   "outputs": [],
   "source": []
  }
 ],
 "metadata": {
  "kernelspec": {
   "display_name": "Python 3",
   "language": "python",
   "name": "python3"
  },
  "language_info": {
   "codemirror_mode": {
    "name": "ipython",
    "version": 3
   },
   "file_extension": ".py",
   "mimetype": "text/x-python",
   "name": "python",
   "nbconvert_exporter": "python",
   "pygments_lexer": "ipython3",
   "version": "3.6.5"
  }
 },
 "nbformat": 4,
 "nbformat_minor": 2
}

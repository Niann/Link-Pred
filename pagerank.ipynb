{
 "cells": [
  {
   "cell_type": "markdown",
   "metadata": {},
   "source": [
    "## new feature test"
   ]
  },
  {
   "cell_type": "code",
   "execution_count": 1,
   "metadata": {},
   "outputs": [
    {
     "name": "stderr",
     "output_type": "stream",
     "text": [
      "C:\\Anaconda3\\lib\\site-packages\\h5py\\__init__.py:36: FutureWarning: Conversion of the second argument of issubdtype from `float` to `np.floating` is deprecated. In future, it will be treated as `np.float64 == np.dtype(float).type`.\n",
      "  from ._conv import register_converters as _register_converters\n"
     ]
    }
   ],
   "source": [
    "import pickle\n",
    "import numpy as np\n",
    "import tensorflow as tf\n",
    "\n",
    "from math import sqrt\n",
    "from tqdm import tqdm\n",
    "from copy import deepcopy\n",
    "from sklearn.metrics import roc_auc_score\n",
    "from sklearn.model_selection import train_test_split\n",
    "from sklearn.linear_model import LogisticRegression\n",
    "from sklearn.tree import DecisionTreeClassifier\n",
    "from sklearn.ensemble import RandomForestClassifier"
   ]
  },
  {
   "cell_type": "code",
   "execution_count": 2,
   "metadata": {},
   "outputs": [
    {
     "name": "stdout",
     "output_type": "stream",
     "text": [
      "19570\n"
     ]
    }
   ],
   "source": [
    "with open(\"raw.pickle\",\"rb\") as f:\n",
    "    data = pickle.load(f)\n",
    "\n",
    "with open(\"matrix.pickle\",\"rb\") as f:\n",
    "    matrix = pickle.load(f)\n",
    "\n",
    "print (len(matrix.keys()))"
   ]
  },
  {
   "cell_type": "code",
   "execution_count": 3,
   "metadata": {},
   "outputs": [],
   "source": [
    "in_matrix = {}\n",
    "for k in matrix:\n",
    "    for v in matrix[k]:\n",
    "        if v in in_matrix:\n",
    "            in_matrix[v].add(k)\n",
    "        else:\n",
    "            in_matrix[v] = set([k])"
   ]
  },
  {
   "cell_type": "code",
   "execution_count": 4,
   "metadata": {},
   "outputs": [],
   "source": [
    "def hop_point(a, b, in_matrix, matrix, normalize=True):\n",
    "    cnt = 0\n",
    "    for hop in matrix[a]:\n",
    "        if hop in in_matrix[b]:\n",
    "            cnt += 1\n",
    "    if normalize:\n",
    "        cnt /= len(matrix[a])\n",
    "    return cnt\n",
    "\n",
    "def kNN(a, b, in_matrix, matrix):\n",
    "    wa_out = 1/sqrt(1+len(matrix[a]))\n",
    "    wb_in = 1/sqrt(1+len(in_matrix[b]))\n",
    "    return wa_out + wb_in"
   ]
  },
  {
   "cell_type": "code",
   "execution_count": 3,
   "metadata": {},
   "outputs": [
    {
     "name": "stdout",
     "output_type": "stream",
     "text": [
      "19570\n"
     ]
    }
   ],
   "source": [
    "tf.reset_default_graph()\n",
    "\n",
    "# give id to node with outdegree > 0\n",
    "valid_nodes = list(matrix.keys())\n",
    "v2id = {}\n",
    "for idx, v in enumerate(valid_nodes):\n",
    "    v2id[v] = idx\n",
    "print(len(v2id))\n",
    "\n",
    "# computation graph for rooted page rank\n",
    "d = 0.5\n",
    "walk = 5\n",
    "A_ = tf.placeholder(tf.float32, [len(v2id)+1, len(v2id)+1])\n",
    "x_ = tf.placeholder(tf.float32, [len(v2id)+1,1])\n",
    "prob = (1 - d) * x_ + tf.matmul(A_, x_)\n",
    "for i in range(walk-1):\n",
    "    prob = (1 - d) * prob + d * tf.matmul(A_, prob)"
   ]
  },
  {
   "cell_type": "code",
   "execution_count": 4,
   "metadata": {
    "scrolled": true
   },
   "outputs": [
    {
     "name": "stdout",
     "output_type": "stream",
     "text": [
      "19570\n"
     ]
    }
   ],
   "source": [
    "\n",
    "# filter sinks with outdegree 0\n",
    "m = {}\n",
    "tB = {}\n",
    "for vi in matrix:\n",
    "    valid = set()\n",
    "    for vj in matrix[vi]:\n",
    "        tB[vj] = tB.get(vj,set())\n",
    "        tB[vj].add(v2id[vi])\n",
    "        if vj in v2id:\n",
    "            valid.add(vj)\n",
    "    m[v2id[vi]] = [v2id[v] for v in valid]\n",
    "\n",
    "print(len(m))\n",
    "\n",
    "tm = np.zeros([len(v2id)+1, len(v2id)+1])\n",
    "for vi in m:\n",
    "    if len(m[vi])>0:\n",
    "        tm[vi,m[vi]] = 1/len(m[vi])"
   ]
  },
  {
   "cell_type": "code",
   "execution_count": null,
   "metadata": {},
   "outputs": [],
   "source": []
  },
  {
   "cell_type": "code",
   "execution_count": 5,
   "metadata": {},
   "outputs": [],
   "source": [
    "import time\n",
    "\n",
    "\n",
    "def pagerank(a, b, matrix):\n",
    "        \n",
    "    #s1 = time.clock()\n",
    "    \n",
    "    ta = v2id[a]\n",
    "    A = tm.copy()\n",
    "    \n",
    "    aset = deepcopy(tB[b])\n",
    "    if ta in aset:\n",
    "        aset.remove(ta)\n",
    "    \n",
    "    if b not in v2id:\n",
    "        for vi in aset:\n",
    "            tempv = 1/(len(m[vi])+1)\n",
    "            A[vi,m[vi]] = tempv\n",
    "            A[vi,-1]=tempv\n",
    "    else:\n",
    "        l = len(m[ta])\n",
    "        if l > 1:\n",
    "            A[ta,m[ta]] = 1/(len(m[vi])-1)\n",
    "            A[ta,v2id[b]] = 0\n",
    "        else:\n",
    "            A[ta, :] = np.zeros_like(A[ta, :])\n",
    "    \n",
    "    x = np.zeros(len(v2id)+1)\n",
    "    x[v2id[a]] = 1\n",
    "    \"\"\"\n",
    "    for i in range(walk):\n",
    "        x = (1 - d) * x + d * A.T @ x\n",
    "    \"\"\"\n",
    "    #s2 = time.clock()\n",
    "    \n",
    "    x = sess.run(prob, feed_dict={A_:A.T, x_:np.expand_dims(x,-1)})\n",
    "    \n",
    "    #end = time.clock()\n",
    "    #print (s2-s1,end-s2)\n",
    "    \n",
    "    if b in matrix:\n",
    "        return x[v2id[b]][0]\n",
    "    else:\n",
    "        return x[-1][0]"
   ]
  },
  {
   "cell_type": "code",
   "execution_count": null,
   "metadata": {},
   "outputs": [],
   "source": []
  },
  {
   "cell_type": "code",
   "execution_count": 6,
   "metadata": {
    "scrolled": true
   },
   "outputs": [
    {
     "name": "stderr",
     "output_type": "stream",
     "text": [
      "100%|#########################################################################| 10000/10000 [21:42:56<00:00,  7.82s/it]\n"
     ]
    }
   ],
   "source": [
    "config = tf.ConfigProto()\n",
    "config.gpu_options.allow_growth=True\n",
    "\n",
    "with tf.device(\"/gpu:0\"):\n",
    "    with tf.Session(config=config) as sess:\n",
    "        train_ = {}\n",
    "        for i, a, b, label in tqdm(data[10000:], ascii=True):\n",
    "            #if a == 1818439:\n",
    "            #    continue\n",
    "            #hop = hop_point(a, b, in_matrix, matrix)\n",
    "            #knn = kNN(a, b, in_matrix, matrix)\n",
    "            pr = pagerank(a, b, matrix)\n",
    "            train_[i]=[pr, label]\n",
    "        #train_ = np.array(train_)"
   ]
  },
  {
   "cell_type": "code",
   "execution_count": 7,
   "metadata": {},
   "outputs": [],
   "source": [
    "\n",
    "with open(\"2W.pickle\",\"wb\") as f:\n",
    "    pickle.dump(train_, f)"
   ]
  },
  {
   "cell_type": "code",
   "execution_count": 8,
   "metadata": {},
   "outputs": [],
   "source": [
    "#with tf.device(\"/gpu:0\"):\n",
    "#    with tf.Session() as sess:\n",
    "#        test_pagerank = []\n",
    "#        for a, b in tqdm(test_pair, ascii=True):\n",
    "#            #hop = hop_point(a, b, in_matrix, matrix)\n",
    "#            #knn = kNN(a, b, in_matrix, matrix)\n",
    "#            pr = pagerank(a, b, matrix)\n",
    "#            test_pagerank.append([pr])\n",
    "#        test_pagerank = np.array(test_pagerank)"
   ]
  },
  {
   "cell_type": "code",
   "execution_count": 9,
   "metadata": {},
   "outputs": [
    {
     "ename": "NameError",
     "evalue": "name 'test_pagerank' is not defined",
     "output_type": "error",
     "traceback": [
      "\u001b[1;31m---------------------------------------------------------------------------\u001b[0m",
      "\u001b[1;31mNameError\u001b[0m                                 Traceback (most recent call last)",
      "\u001b[1;32m<ipython-input-9-f8db0e47fd5b>\u001b[0m in \u001b[0;36m<module>\u001b[1;34m()\u001b[0m\n\u001b[1;32m----> 1\u001b[1;33m \u001b[0mtest_pagerank\u001b[0m\u001b[1;33m.\u001b[0m\u001b[0mshape\u001b[0m\u001b[1;33m\u001b[0m\u001b[0m\n\u001b[0m",
      "\u001b[1;31mNameError\u001b[0m: name 'test_pagerank' is not defined"
     ]
    }
   ],
   "source": [
    "test_pagerank.shape"
   ]
  },
  {
   "cell_type": "code",
   "execution_count": null,
   "metadata": {},
   "outputs": [],
   "source": [
    "to_disc = {}\n",
    "for i in range(len(test_pagerank)):\n",
    "    to_disc[i] = test_pagerank[i][0]\n",
    "with open(\"pagerank_test.pickle\",\"wb\") as f:\n",
    "    pickle.dump(to_disc, f)"
   ]
  },
  {
   "cell_type": "code",
   "execution_count": null,
   "metadata": {},
   "outputs": [],
   "source": [
    "train, test = train_test_split(train_, train_size=0.8)\n",
    "X_train, y_train = train[:,:-1], train[:,-1]\n",
    "X_test, y_test = test[:,:-1], test[:,-1]"
   ]
  },
  {
   "cell_type": "code",
   "execution_count": null,
   "metadata": {},
   "outputs": [],
   "source": [
    "model = LogisticRegression()\n",
    "model.fit(X_train, y_train)\n",
    "print(model.score(X_test, y_test))\n",
    "print(roc_auc_score(y_test, np.squeeze(model.predict_proba(X_test)[:,1])))"
   ]
  },
  {
   "cell_type": "code",
   "execution_count": null,
   "metadata": {},
   "outputs": [],
   "source": [
    "model = DecisionTreeClassifier()\n",
    "model.fit(X_train, y_train)\n",
    "print(model.score(X_test, y_test))\n",
    "print(roc_auc_score(y_test, np.squeeze(model.predict_proba(X_test)[:,1])))"
   ]
  },
  {
   "cell_type": "code",
   "execution_count": null,
   "metadata": {},
   "outputs": [],
   "source": [
    "model = RandomForestClassifier(100)\n",
    "model.fit(X_train, y_train)\n",
    "print(model.score(X_test, y_test))\n",
    "print(roc_auc_score(y_test, np.squeeze(model.predict_proba(X_test)[:,1])))"
   ]
  },
  {
   "cell_type": "code",
   "execution_count": null,
   "metadata": {},
   "outputs": [],
   "source": [
    "y_pred_prob = model.predict_proba(test_pagerank)\n",
    "with open(\"pred_pagerank.csv\",\"w\") as f:.\n",
    "    f.write(\"Id,Prediction\\n\")\n",
    "    for i in range(1,len(y_pred_prob)+1):\n",
    "        f.write(str(i) + \",\" + str(y_pred_prob[i-1][1]) + \"\\n\")"
   ]
  },
  {
   "cell_type": "code",
   "execution_count": null,
   "metadata": {},
   "outputs": [],
   "source": [
    "print(train_)"
   ]
  },
  {
   "cell_type": "code",
   "execution_count": null,
   "metadata": {},
   "outputs": [],
   "source": []
  }
 ],
 "metadata": {
  "kernelspec": {
   "display_name": "Python 3",
   "language": "python",
   "name": "python3"
  },
  "language_info": {
   "codemirror_mode": {
    "name": "ipython",
    "version": 3
   },
   "file_extension": ".py",
   "mimetype": "text/x-python",
   "name": "python",
   "nbconvert_exporter": "python",
   "pygments_lexer": "ipython3",
   "version": "3.6.5"
  }
 },
 "nbformat": 4,
 "nbformat_minor": 2
}
